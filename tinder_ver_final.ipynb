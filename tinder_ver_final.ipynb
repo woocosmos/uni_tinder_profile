{
  "nbformat": 4,
  "nbformat_minor": 0,
  "metadata": {
    "colab": {
      "name": "틴더연구_최종.ipynb",
      "provenance": [],
      "collapsed_sections": [],
      "toc_visible": true
    },
    "kernelspec": {
      "name": "python3",
      "display_name": "Python 3"
    }
  },
  "cells": [
    {
      "cell_type": "markdown",
      "metadata": {
        "id": "ClTT7LTug60b"
      },
      "source": [
        "피드백\n",
        "\n",
        "A.    단순빈도수에 더해 TF-IDF 빈도수를 쓴다면?\n",
        "\n",
        "B.    메타 데이터별 빈도수 분석은 별로 였나?\n",
        "\n",
        "C.    영어 불용어(to 같은 전치사 지우기?)\n",
        "\n",
        "D.    DMR 분석은 메타데이터별 비중 퍼센트가 나오면 좋을 듯\n",
        "\n",
        "E.    이모지는 주요 이모지만 텍스트화?\n",
        "\n",
        "F.    스몰 데이터에 맞는 질적 해석을 마지막 결론으로 넣어도 좋을 듯\n",
        "\n",
        "G.    위 의견과 관련돼 연구자가 직접 데이터를 모으며 텍스트를 읽은 경험을 데이터와 같이 녹이면 좋은 연구가 될 것\n",
        "\n",
        "H.    틴더 광고와의 연수 학생의 결론을 잇는다면?"
      ]
    },
    {
      "cell_type": "markdown",
      "metadata": {
        "id": "f4mTpQPcAayv"
      },
      "source": [
        "\n",
        "pandas cheat sheet https://github.com/pandas-dev/pandas/blob/master/doc/cheatsheet/Pandas_Cheat_Sheet.pdf"
      ]
    },
    {
      "cell_type": "markdown",
      "metadata": {
        "id": "T5FMiz8I9QjJ"
      },
      "source": [
        "## 라이브러리 로드"
      ]
    },
    {
      "cell_type": "code",
      "metadata": {
        "id": "suSUWARfBD5n",
        "colab": {
          "base_uri": "https://localhost:8080/",
          "height": 669
        },
        "outputId": "59d27db0-ab3e-4919-e727-f6b743c346e4"
      },
      "source": [
        "# !pip install konlpy\n",
        "# !pip install PyKomoran # 코모란\n",
        "!pip install tomotopy # 토픽 모델링\n",
        "!pip install kiwipiepy # 키위\n",
        "!pip install chatspace  # 띄어쓰기 교정 - 대화형의 스페이스\n",
        "# !bash <(curl -s https://raw.githubusercontent.com/konlpy/konlpy/master/scripts/mecab.sh)\n",
        "!sudo apt update # 최신 팩키지로 업데이트\n",
        "!sudo apt install fonts-nanum #나눔폰트 설치\n",
        "!curl https://raw.githubusercontent.com/lovit/soyspacing/master/demo_model/134963_norm.txt -o 134963_norm.txt #soyspacing 학습\n",
        "!pip install regex\n",
        "\n",
        "\n",
        "import pandas as pd # 판다스\n",
        "import numpy as np\n",
        "import matplotlib.pyplot as plt # 그래프 모듈\n",
        "\n",
        "from sklearn.feature_extraction.text import CountVectorizer # 문서 내 단어 수를 세서 벡터로 만들어주는 모듈\n",
        "from sklearn.feature_extraction.text import TfidfVectorizer\n",
        "from sklearn.metrics.pairwise import cosine_similarity\n",
        "\n",
        "import sys\n",
        "import regex\n",
        "\n",
        "import tomotopy as tp\n",
        "# print(tp.isa)\n",
        "\n",
        "from kiwipiepy import Kiwi, Option\n",
        "kiwi = Kiwi(options=Option.DEFAULT)\n",
        "kiwi.prepare()"
      ],
      "execution_count": null,
      "outputs": [
        {
          "output_type": "stream",
          "text": [
            "Requirement already satisfied: tomotopy in /usr/local/lib/python3.6/dist-packages (0.8.1)\n",
            "Requirement already satisfied: numpy>=1.10.0 in /usr/local/lib/python3.6/dist-packages (from tomotopy) (1.18.5)\n",
            "Requirement already satisfied: py-cpuinfo in /usr/local/lib/python3.6/dist-packages (from tomotopy) (6.0.0)\n",
            "Requirement already satisfied: kiwipiepy in /usr/local/lib/python3.6/dist-packages (0.8.1)\n",
            "Requirement already satisfied: chatspace in /usr/local/lib/python3.6/dist-packages (1.0.1)\n",
            "Requirement already satisfied: torch in /usr/local/lib/python3.6/dist-packages (from chatspace) (1.5.0+cu101)\n",
            "Requirement already satisfied: future in /usr/local/lib/python3.6/dist-packages (from torch->chatspace) (0.16.0)\n",
            "Requirement already satisfied: numpy in /usr/local/lib/python3.6/dist-packages (from torch->chatspace) (1.18.5)\n",
            "Hit:1 https://cloud.r-project.org/bin/linux/ubuntu bionic-cran35/ InRelease\n",
            "Ign:2 https://developer.download.nvidia.com/compute/cuda/repos/ubuntu1804/x86_64  InRelease\n",
            "Hit:3 http://security.ubuntu.com/ubuntu bionic-security InRelease\n",
            "Hit:4 http://ppa.launchpad.net/graphics-drivers/ppa/ubuntu bionic InRelease\n",
            "Ign:5 https://developer.download.nvidia.com/compute/machine-learning/repos/ubuntu1804/x86_64  InRelease\n",
            "Hit:6 https://developer.download.nvidia.com/compute/cuda/repos/ubuntu1804/x86_64  Release\n",
            "Hit:7 http://archive.ubuntu.com/ubuntu bionic InRelease\n",
            "Hit:8 https://developer.download.nvidia.com/compute/machine-learning/repos/ubuntu1804/x86_64  Release\n",
            "Hit:9 http://archive.ubuntu.com/ubuntu bionic-updates InRelease\n",
            "Hit:10 http://ppa.launchpad.net/marutter/c2d4u3.5/ubuntu bionic InRelease\n",
            "Hit:11 http://archive.ubuntu.com/ubuntu bionic-backports InRelease\n",
            "Reading package lists... Done\n",
            "Building dependency tree       \n",
            "Reading state information... Done\n",
            "49 packages can be upgraded. Run 'apt list --upgradable' to see them.\n",
            "Reading package lists... Done\n",
            "Building dependency tree       \n",
            "Reading state information... Done\n",
            "fonts-nanum is already the newest version (20170925-1).\n",
            "The following package was automatically installed and is no longer required:\n",
            "  libnvidia-common-440\n",
            "Use 'sudo apt autoremove' to remove it.\n",
            "0 upgraded, 0 newly installed, 0 to remove and 49 not upgraded.\n",
            "  % Total    % Received % Xferd  Average Speed   Time    Time     Time  Current\n",
            "                                 Dload  Upload   Total   Spent    Left  Speed\n",
            "100 1621k  100 1621k    0     0  5813k      0 --:--:-- --:--:-- --:--:-- 5813k\n",
            "Requirement already satisfied: regex in /usr/local/lib/python3.6/dist-packages (2019.12.20)\n"
          ],
          "name": "stdout"
        },
        {
          "output_type": "execute_result",
          "data": {
            "text/plain": [
              "0"
            ]
          },
          "metadata": {
            "tags": []
          },
          "execution_count": 3729
        }
      ]
    },
    {
      "cell_type": "code",
      "metadata": {
        "id": "P7DAiLadsKhk"
      },
      "source": [
        "from gensim.models import word2vec\n",
        "from sklearn.manifold import TSNE\n",
        "import matplotlib as mpl\n",
        "import matplotlib.pyplot as plt\n",
        "import gensim \n",
        "import gensim.models as g\n",
        "\n",
        "# import logging\n",
        "# logging.basicConfig(\n",
        "#     format='%(asctime)s : %(levelname)s : %(message)s', \n",
        "#     level=logging.INFO)\n",
        "\n",
        "import matplotlib as mpl\n",
        "import matplotlib.pyplot as plt\n",
        "import matplotlib.font_manager as fm\n",
        "# plt.rc('font', family='Malgun Gothic')\n",
        "import matplotlib.pyplot as plt\n",
        "import seaborn as sns\n",
        "\n",
        "from sklearn.impute import SimpleImputer\n",
        "from sklearn.ensemble import RandomForestClassifier\n",
        "from sklearn.model_selection import cross_val_score"
      ],
      "execution_count": null,
      "outputs": []
    },
    {
      "cell_type": "code",
      "metadata": {
        "id": "S3-67Zu3t-iH",
        "colab": {
          "base_uri": "https://localhost:8080/",
          "height": 162
        },
        "outputId": "9f71f3e4-8e31-40bc-b3bb-58fa29c25ae5"
      },
      "source": [
        "!apt install fonts-nanum\n",
        "font_path = '/usr/share/fonts/truetype/nanum/NanumBarunGothic.ttf'"
      ],
      "execution_count": null,
      "outputs": [
        {
          "output_type": "stream",
          "text": [
            "Reading package lists... Done\n",
            "Building dependency tree       \n",
            "Reading state information... Done\n",
            "fonts-nanum is already the newest version (20170925-1).\n",
            "The following package was automatically installed and is no longer required:\n",
            "  libnvidia-common-440\n",
            "Use 'apt autoremove' to remove it.\n",
            "0 upgraded, 0 newly installed, 0 to remove and 49 not upgraded.\n"
          ],
          "name": "stdout"
        }
      ]
    },
    {
      "cell_type": "markdown",
      "metadata": {
        "id": "M4vEuPI39UYL"
      },
      "source": [
        "## 표 다듬기"
      ]
    },
    {
      "cell_type": "markdown",
      "metadata": {
        "id": "6Z6No-UnsRHX"
      },
      "source": [
        "데이터 읽어오기 및 확인\n",
        "\n",
        "\n",
        "특정 단어 있는 행 뽑음 : df[df[col_name].str.contains(word, na=False)]"
      ]
    },
    {
      "cell_type": "code",
      "metadata": {
        "id": "GIiSTJiJ0IIg"
      },
      "source": [
        "df = pd.read_excel('틴더_연구데이터.xlsx')"
      ],
      "execution_count": null,
      "outputs": []
    },
    {
      "cell_type": "code",
      "metadata": {
        "id": "XbnSoupQC9vl"
      },
      "source": [
        "# 결측행 제거\n",
        "# df = df.dropna(subset=['문구'])\n",
        "# df = df.dropna(subset=['유저네임'])\n",
        "\n",
        "# 인덱스 초기화\n",
        "# df = df.reset_index(drop=True)\n",
        "\n",
        "# 칼럼 삭제 및 칼럼명 변경\n",
        "df = df.drop(['종교', '거리 및 지역', '비고'], axis=1)\n",
        "df = df.rename({'성별':'gender', '작성일자':'date', '유저네임':'name', '나이':'age', '문구':'profile','직업':'job', '학교':'school','해시태그':'hashtag', '외국인 여부':'alien'}, axis = 1)"
      ],
      "execution_count": null,
      "outputs": []
    },
    {
      "cell_type": "markdown",
      "metadata": {
        "id": "rXSpX5iMFeNT"
      },
      "source": [
        "남녀 나이 평균"
      ]
    },
    {
      "cell_type": "code",
      "metadata": {
        "id": "62p58_O2FIYM"
      },
      "source": [
        "ages = df.groupby('gender').age.mean()"
      ],
      "execution_count": null,
      "outputs": []
    },
    {
      "cell_type": "code",
      "metadata": {
        "id": "MO3n7GUOFZNX",
        "colab": {
          "base_uri": "https://localhost:8080/",
          "height": 89
        },
        "outputId": "51db4701-d714-49bd-9ed5-9314990a9f1e"
      },
      "source": [
        "ages"
      ],
      "execution_count": null,
      "outputs": [
        {
          "output_type": "execute_result",
          "data": {
            "text/plain": [
              "gender\n",
              "남    26.145098\n",
              "여    22.665179\n",
              "Name: age, dtype: float64"
            ]
          },
          "metadata": {
            "tags": []
          },
          "execution_count": 3735
        }
      ]
    },
    {
      "cell_type": "markdown",
      "metadata": {
        "id": "MXW8SfRqaZWl"
      },
      "source": [
        "# 텍스트 전처리"
      ]
    },
    {
      "cell_type": "markdown",
      "metadata": {
        "id": "Sl0Rpa9LVemx"
      },
      "source": [
        "## 종류가 다른 문자들(한글, 이모지, 알파벳)"
      ]
    },
    {
      "cell_type": "code",
      "metadata": {
        "id": "-bYMhVHyx7I9",
        "colab": {
          "base_uri": "https://localhost:8080/",
          "height": 35
        },
        "outputId": "9ed0ca87-7922-451a-ad15-f529d7608319"
      },
      "source": [
        "# 이모지 모듈\n",
        "\n",
        "!pip install emoji\n",
        "import emoji"
      ],
      "execution_count": null,
      "outputs": [
        {
          "output_type": "stream",
          "text": [
            "Requirement already satisfied: emoji in /usr/local/lib/python3.6/dist-packages (0.5.4)\n"
          ],
          "name": "stdout"
        }
      ]
    },
    {
      "cell_type": "code",
      "metadata": {
        "id": "g6fLRNmA4SAU"
      },
      "source": [
        "# profile을 string으로 바꾸고, 이모지를 alphabet으로 바꾸기\n",
        "\n",
        "df['profile'] = df['profile'].apply(lambda x: str(x))\n",
        "df['profile'] = df['profile'].apply(lambda x: emoji.demojize(x))"
      ],
      "execution_count": null,
      "outputs": []
    },
    {
      "cell_type": "code",
      "metadata": {
        "id": "CY8Vvni01sXl"
      },
      "source": [
        "# 열 안에서 특정 값을 뭐시기로 바꾸기\n",
        "# df['가격'] = df['가격'].astype(str).str.replace('원', '')"
      ],
      "execution_count": null,
      "outputs": []
    },
    {
      "cell_type": "code",
      "metadata": {
        "id": "tQlDWfwXl3YV"
      },
      "source": [
        "# 한글만 별도 탭(profile_hangul)에 옮기기\n",
        "# df['profile_hangul'] = df['profile'].str.replace(\"[^ㄱ-ㅎㅏ-ㅣ가-힣 ]\",\"\")\n",
        "# df = df.dropna(subset=['profile_hangul'])\n",
        "# df = df.reset_index(drop=True)\n",
        "# df['profile_hangul']"
      ],
      "execution_count": null,
      "outputs": []
    },
    {
      "cell_type": "markdown",
      "metadata": {
        "id": "KOTvzm0elKdY"
      },
      "source": [
        " ***질문1. 영어를 띄어쓰기 해주는 모듈이 있나요? 너무 번거로운 작업이라면 포기하고 한글 문구만 분석하려고 합니다!!***"
      ]
    },
    {
      "cell_type": "code",
      "metadata": {
        "id": "eegx59qF47E4"
      },
      "source": [
        "# 영어만 별도 탭(profile_aphabet)에 옮기기\n",
        "# demojize된 이모지도 포함됨\n",
        "# df['profile_alphabet'] = df['profile'].str.replace(\"[^A-Za-z]\",\"\") \n",
        "# df = df.dropna(subset=['profile_alphabet'])\n",
        "# df = df.reset_index(drop=True)\n",
        "# df['profile_alphabet']"
      ],
      "execution_count": null,
      "outputs": []
    },
    {
      "cell_type": "markdown",
      "metadata": {
        "id": "ngQ35r2AOMpA"
      },
      "source": [
        "## 한글 처리 및 토큰화"
      ]
    },
    {
      "cell_type": "code",
      "metadata": {
        "id": "hKmjPAStqlIe",
        "colab": {
          "base_uri": "https://localhost:8080/",
          "height": 35
        },
        "outputId": "590a786a-ad63-4661-ebbf-08ee531d2a89"
      },
      "source": [
        "# chatspace로 띄어쓰기\n",
        "from chatspace import ChatSpace\n",
        "\n",
        "spacer = ChatSpace()\n",
        "# df['profile_hangul'] = spacer.space(df['profile_hangul'])"
      ],
      "execution_count": null,
      "outputs": [
        {
          "output_type": "stream",
          "text": [
            "Loading JIT Compiled ChatSpace Model\n"
          ],
          "name": "stdout"
        }
      ]
    },
    {
      "cell_type": "code",
      "metadata": {
        "id": "bbSd7oDSnfRw"
      },
      "source": [
        "df.loc[df['hashtag'].isna(),'hashtag'] = ''"
      ],
      "execution_count": null,
      "outputs": []
    },
    {
      "cell_type": "code",
      "metadata": {
        "id": "ycI8SOBAnsBP",
        "colab": {
          "base_uri": "https://localhost:8080/",
          "height": 234
        },
        "outputId": "53b1789b-084a-46f9-e00e-b5808004f75d"
      },
      "source": [
        "df['hashtag']"
      ],
      "execution_count": null,
      "outputs": [
        {
          "output_type": "execute_result",
          "data": {
            "text/plain": [
              "0          심심할 때 수다, 근교 드라이브, 반려동물과 산책, 술 한 잔\n",
              "1                    코노 메이트, 술 한 잔, 새로운 것 배우기\n",
              "2                                            \n",
              "3                                            \n",
              "4                                            \n",
              "                        ...                  \n",
              "494                  새로운 것 배우기, 커피 한 잔, 동네 산책\n",
              "495                                          \n",
              "496    근교 드라이브, 심심할 때 수다, 인스타 감성 카페투어, 코노 메이트\n",
              "497           동네 산책, 영화 감상, 한강에서 치맥, 심심할 때 수다\n",
              "498                                          \n",
              "Name: hashtag, Length: 499, dtype: object"
            ]
          },
          "metadata": {
            "tags": []
          },
          "execution_count": 3743
        }
      ]
    },
    {
      "cell_type": "code",
      "metadata": {
        "id": "yd4a8brOnCzb"
      },
      "source": [
        "df['text'] =df['profile'].astype(str) + ' ' + df['hashtag'].astype(str)"
      ],
      "execution_count": null,
      "outputs": []
    },
    {
      "cell_type": "code",
      "metadata": {
        "id": "M-0NSCChkQ4u"
      },
      "source": [
        "# df['text'] = spacer.space(df['text'])"
      ],
      "execution_count": null,
      "outputs": []
    },
    {
      "cell_type": "code",
      "metadata": {
        "id": "0ymqf4bVmM00"
      },
      "source": [
        "df['text'] = df['text'].str.lower()"
      ],
      "execution_count": null,
      "outputs": []
    },
    {
      "cell_type": "code",
      "metadata": {
        "id": "VJldsuzlnPV2",
        "colab": {
          "base_uri": "https://localhost:8080/",
          "height": 234
        },
        "outputId": "fb7da584-6df4-41b9-efa9-015348bfd258"
      },
      "source": [
        "df['text']"
      ],
      "execution_count": null,
      "outputs": [
        {
          "output_type": "execute_result",
          "data": {
            "text/plain": [
              "0      일이 많이 바빠서 답이 느릴 때가 있어요..! 심심할 때 수다, 근교 드라이브, 반...\n",
              "1            출장땜에 잠시 지방에 내려가있어요 코노 메이트, 술 한 잔, 새로운 것 배우기\n",
              "2      doctor of dental surgery\\nneither married nor ...\n",
              "3      :france: french living in 서울\\ni can't lick my ...\n",
              "4                                                   nan \n",
              "                             ...                        \n",
              "494    ons, fwb -> go to hell and fuck off\\njust wann...\n",
              "495                  감성이 맞는 남자 \\n타투 있어\\nyoutube - aneui \n",
              "496    ig \\n연하 좋아 어릴수록 더 좋아\\n연애할 사람 찾는 중\\n술 :cross_ma...\n",
              "497    출근하자마자 집에 가고 싶은 나이\\n늘 살을 빼고 있긴 한데 쉽지 않은 나이\\n그래...\n",
              "498      서울 사는 직장인\\nno fwb non smoker\\n165 cm\\n동네 친구 환영 \n",
              "Name: text, Length: 499, dtype: object"
            ]
          },
          "metadata": {
            "tags": []
          },
          "execution_count": 3747
        }
      ]
    },
    {
      "cell_type": "code",
      "metadata": {
        "id": "tnaFO_IY75uc"
      },
      "source": [
        "df.loc[df['text'].isna(),'text'] = ''"
      ],
      "execution_count": null,
      "outputs": []
    },
    {
      "cell_type": "code",
      "metadata": {
        "id": "0S4OT4mdAeLN"
      },
      "source": [
        "df['text'] = df['text'].astype(str).str.replace('\\n', ' ')\n",
        "df['text'] = df['text'].astype(str).str.replace(\"'\", '')"
      ],
      "execution_count": null,
      "outputs": []
    },
    {
      "cell_type": "code",
      "metadata": {
        "id": "3bAZqteE58rH"
      },
      "source": [
        "# 불용어 리스트\n",
        "stopwords = ['의','가','이','은','들','는','좀','잘','걍','과','도','를','으로','자','에','와','한','하다', 'and', '있다', 's', 'to', 'ing', 'but', 'a', 'in', 'nan','on','at','mark']"
      ],
      "execution_count": null,
      "outputs": []
    },
    {
      "cell_type": "code",
      "metadata": {
        "id": "Joexe5e-L41B"
      },
      "source": [
        "# 토크나이징 함수 선언\n",
        "def tokenize(sent, debug=False):\n",
        "    res, score = kiwi.analyze(sent)[0] # 첫번째 결과를 사용\n",
        "    ret = []\n",
        "    if debug:\n",
        "      print(res)\n",
        "    for word, tag, _, _ in res:\n",
        "        # 조사, 어미, 특수기호 및 stopwords에 포함된 단어는 제거\n",
        "        if (not tag.startswith('E') and\n",
        "            not tag.startswith('J') and\n",
        "            not tag.startswith('SF') and\n",
        "            not tag.startswith('SP') and\n",
        "            not tag.startswith('SS') and\n",
        "            not tag.startswith('SE') and\n",
        "            not tag.startswith('SO') and\n",
        "            not tag.startswith('SN') and\n",
        "            not tag.startswith('SW') and\n",
        "            word not in stopwords):\n",
        "          ret.append(word + ('다' if tag.startswith('V') else ''))\n",
        "    return ret"
      ],
      "execution_count": null,
      "outputs": []
    },
    {
      "cell_type": "code",
      "metadata": {
        "id": "O0nPYmrb6a16",
        "colab": {
          "base_uri": "https://localhost:8080/",
          "height": 35
        },
        "outputId": "abecfdd9-8b45-44d3-8b5b-e9b908c9154c"
      },
      "source": [
        "kiwi = Kiwi() # kiwi 형태소 분석기 재실행\n",
        "kiwi.add_user_word('fwb','NNP')\n",
        "kiwi.add_user_word('여사친','NNP')\n",
        "kiwi.add_user_word('남사친','NNP')\n",
        "kiwi.add_user_word('instagram','NNP')\n",
        "kiwi.add_user_word('방탈출','NNP')\n",
        "kiwi.add_user_word('bts','NNP')\n",
        "kiwi.add_user_word('무한도전','NNP')\n",
        "kiwi.add_user_word('롯데월드','NNP')\n",
        "kiwi.add_user_word('ons','NNP')\n",
        "kiwi.add_user_word('왓챠','NNP')\n",
        "kiwi.add_user_word('edm','NNP')\n",
        "kiwi.add_user_word('hmu','NNP')\n",
        "kiwi.add_user_word('밀당','NNP')\n",
        "kiwi.add_user_word('배그','NNP')\n",
        "kiwi.add_user_word('서든','NNP')\n",
        "kiwi.add_user_word('롤','NNP')\n",
        "kiwi.add_user_word('칼답','NNP')\n",
        "kiwi.add_user_word('치맥','NNP')\n",
        "kiwi.add_user_word('썸','NNP')\n",
        "kiwi.add_user_word('istj','NNP')\n",
        "kiwi.add_user_word('isfj','NNP')\n",
        "kiwi.add_user_word('infj','NNP')\n",
        "kiwi.add_user_word('intj','NNP')\n",
        "kiwi.add_user_word('istp','NNP')\n",
        "kiwi.add_user_word('isfp','NNP')\n",
        "kiwi.add_user_word('infp','NNP')\n",
        "kiwi.add_user_word('intp','NNP')\n",
        "kiwi.add_user_word('estp','NNP')\n",
        "kiwi.add_user_word('esfp','NNP')\n",
        "kiwi.add_user_word('enfp','NNP')\n",
        "kiwi.add_user_word('entp','NNP')\n",
        "kiwi.add_user_word('estj','NNP')\n",
        "kiwi.add_user_word('esfj','NNP')\n",
        "kiwi.add_user_word('enfj','NNP')\n",
        "kiwi.add_user_word('entj','NNP')\n",
        "kiwi.add_user_word('cm','NNP')\n",
        "kiwi.add_user_word('dm','NNP')\n",
        "kiwi.add_user_word('youtube','NNP')\n",
        "kiwi.add_user_word('반려동물','NNP')\n",
        "kiwi.add_user_word('crossmark','NNP')\n",
        "kiwi.add_user_word('말','NNG')\n",
        "kiwi.add_user_word('연하','NNG')\n",
        "kiwi.add_user_word('연상','NNG')\n",
        "kiwi.prepare()"
      ],
      "execution_count": null,
      "outputs": [
        {
          "output_type": "execute_result",
          "data": {
            "text/plain": [
              "0"
            ]
          },
          "metadata": {
            "tags": []
          },
          "execution_count": 3752
        }
      ]
    },
    {
      "cell_type": "code",
      "metadata": {
        "id": "fWbAbIERq73_",
        "colab": {
          "base_uri": "https://localhost:8080/",
          "height": 35
        },
        "outputId": "2083ba7e-decd-4832-8e73-f474b0e5ee29"
      },
      "source": [
        "kiwi.analyze('인스타그램')"
      ],
      "execution_count": null,
      "outputs": [
        {
          "output_type": "execute_result",
          "data": {
            "text/plain": [
              "[([('인스타그램', 'NNP', 0, 5)], -9.896484375)]"
            ]
          },
          "metadata": {
            "tags": []
          },
          "execution_count": 3753
        }
      ]
    },
    {
      "cell_type": "code",
      "metadata": {
        "id": "9Z2nEmD76hN9"
      },
      "source": [
        "df['token'] = df['text'].map(lambda x:tokenize(x))"
      ],
      "execution_count": null,
      "outputs": []
    },
    {
      "cell_type": "markdown",
      "metadata": {
        "id": "KvdDhO2RJOgH"
      },
      "source": [
        "동의어 처리 및 불용어"
      ]
    },
    {
      "cell_type": "code",
      "metadata": {
        "id": "JZQLXHrbMzis"
      },
      "source": [
        "stopwords = ['으로','하다', 'and', '있다', 's', 'to', 'ing', 'but', 'a', 'in', 'the', '탐방','so', 'am', 'or', 'gesturing', 'if', '투어', 'it', 'm', 'for', 'south', 'from', 'united', '경기', '관람','me','my','nor', 'of', '이다','감상','근교','도장','깨다']\n",
        "# 어차피 한 글자라서 빠질 것들 '의','가','이','은','들','는','좀','잘','걍','과','도','를','에','와','한',,'자'"
      ],
      "execution_count": null,
      "outputs": []
    },
    {
      "cell_type": "code",
      "metadata": {
        "id": "E8Zxe9a_NBpN"
      },
      "source": [
        "df['token'] = df['token'].map(lambda x:[w for w in x if not w in stopwords]) "
      ],
      "execution_count": null,
      "outputs": []
    },
    {
      "cell_type": "code",
      "metadata": {
        "id": "BEl0-Z2zHw-T"
      },
      "source": [
        "# 동의어 사전\n",
        "# origin word : new word\n",
        "synonym_dict = {\n",
        "    '한국당' : '자유한국당',\n",
        "    'please' : 'plz',\n",
        "    'instagram' : '인스타',\n",
        "    'insta':'인스타',\n",
        "    '인스타' : '인스타그램',\n",
        "    'ig' : '인스타',\n",
        "    'tattoo' : 'tattoos',\n",
        "    '반려동물':'애완동물',\n",
        "    'cant':'cannot',\n",
        "    'srsly':'seriously',\n",
        "    'kingdom':'british',\n",
        "    'parties':'party',\n",
        "    'im' : 'i',\n",
        "    'cross':'no'\n",
        "}"
      ],
      "execution_count": null,
      "outputs": []
    },
    {
      "cell_type": "code",
      "metadata": {
        "id": "AdBKs5wqHw-V"
      },
      "source": [
        "def multipleReplace(text, wordDict):\n",
        "    for key in wordDict:\n",
        "        text = text.replace(key, wordDict[key])\n",
        "    return text"
      ],
      "execution_count": null,
      "outputs": []
    },
    {
      "cell_type": "code",
      "metadata": {
        "id": "PhTnk5cXHw-X"
      },
      "source": [
        "# 동의어 처리\n",
        "df['token'] = df['token'].map(lambda x:multipleReplace(','.join(x),synonym_dict).split(','))"
      ],
      "execution_count": null,
      "outputs": []
    },
    {
      "cell_type": "code",
      "metadata": {
        "id": "tevLAcVyB0hf",
        "colab": {
          "base_uri": "https://localhost:8080/",
          "height": 393
        },
        "outputId": "7dbb8168-e472-4514-e69b-2959a98db7b8"
      },
      "source": [
        "df[df['text'].str.contains(\"tie\", na=False)]"
      ],
      "execution_count": null,
      "outputs": [
        {
          "output_type": "execute_result",
          "data": {
            "text/html": [
              "<div>\n",
              "<style scoped>\n",
              "    .dataframe tbody tr th:only-of-type {\n",
              "        vertical-align: middle;\n",
              "    }\n",
              "\n",
              "    .dataframe tbody tr th {\n",
              "        vertical-align: top;\n",
              "    }\n",
              "\n",
              "    .dataframe thead th {\n",
              "        text-align: right;\n",
              "    }\n",
              "</style>\n",
              "<table border=\"1\" class=\"dataframe\">\n",
              "  <thead>\n",
              "    <tr style=\"text-align: right;\">\n",
              "      <th></th>\n",
              "      <th>Unnamed: 0</th>\n",
              "      <th>date</th>\n",
              "      <th>name</th>\n",
              "      <th>age</th>\n",
              "      <th>gender</th>\n",
              "      <th>profile</th>\n",
              "      <th>job</th>\n",
              "      <th>school</th>\n",
              "      <th>hashtag</th>\n",
              "      <th>alien</th>\n",
              "      <th>text</th>\n",
              "      <th>token</th>\n",
              "    </tr>\n",
              "  </thead>\n",
              "  <tbody>\n",
              "    <tr>\n",
              "      <th>106</th>\n",
              "      <td>107</td>\n",
              "      <td>2020.05.30</td>\n",
              "      <td>Florian</td>\n",
              "      <td>23.0</td>\n",
              "      <td>남</td>\n",
              "      <td>MBA Exchange Student\\nFrom Duesseldorf :German...</td>\n",
              "      <td>NaN</td>\n",
              "      <td>Korea University</td>\n",
              "      <td>running, chef, parties, crossfit, skier</td>\n",
              "      <td>외국인</td>\n",
              "      <td>mba exchange student from duesseldorf :germany...</td>\n",
              "      <td>[mba, exchange, student, duesseldorf, germany,...</td>\n",
              "    </tr>\n",
              "    <tr>\n",
              "      <th>173</th>\n",
              "      <td>174</td>\n",
              "      <td>2020.05.31.</td>\n",
              "      <td>Minji</td>\n",
              "      <td>21.0</td>\n",
              "      <td>여</td>\n",
              "      <td>I don't use Tinder.\\nInstagram</td>\n",
              "      <td>NaN</td>\n",
              "      <td>University of Southern California</td>\n",
              "      <td>fashion, model, movies, music, parties</td>\n",
              "      <td>NaN</td>\n",
              "      <td>i dont use tinder. instagram  fashion, model, ...</td>\n",
              "      <td>[i, dont, use, tinder, 인스타그램, fashion, model, ...</td>\n",
              "    </tr>\n",
              "    <tr>\n",
              "      <th>187</th>\n",
              "      <td>188</td>\n",
              "      <td>2020.05.31.</td>\n",
              "      <td>Celina</td>\n",
              "      <td>23.0</td>\n",
              "      <td>여</td>\n",
              "      <td>:South_Korea::United_States:</td>\n",
              "      <td>NaN</td>\n",
              "      <td>NaN</td>\n",
              "      <td>nature, parties, camping, music, concerts</td>\n",
              "      <td>NaN</td>\n",
              "      <td>:south_korea::united_states: nature, parties, ...</td>\n",
              "      <td>[korea, states, nature, party, camping, music,...</td>\n",
              "    </tr>\n",
              "    <tr>\n",
              "      <th>240</th>\n",
              "      <td>241</td>\n",
              "      <td>NaN</td>\n",
              "      <td>Gage</td>\n",
              "      <td>23.0</td>\n",
              "      <td>남</td>\n",
              "      <td>my home is the last pic.</td>\n",
              "      <td>US army</td>\n",
              "      <td>oklahoma state university</td>\n",
              "      <td>parties, cars, anime, gamer, military</td>\n",
              "      <td>NaN</td>\n",
              "      <td>my home is the last pic.  parties, cars, anime...</td>\n",
              "      <td>[home, is, last, pic, party, cars, anie, gamer...</td>\n",
              "    </tr>\n",
              "    <tr>\n",
              "      <th>304</th>\n",
              "      <td>305</td>\n",
              "      <td>NaN</td>\n",
              "      <td>NaN</td>\n",
              "      <td>19.0</td>\n",
              "      <td>여</td>\n",
              "      <td>I'm just trying to enjoy my last few months in...</td>\n",
              "      <td>NaN</td>\n",
              "      <td>NaN</td>\n",
              "      <td>tattoos, nightlife, parties, nature</td>\n",
              "      <td>NaN</td>\n",
              "      <td>im just trying to enjoy my last few months in ...</td>\n",
              "      <td>[i, just, trying, enjoy, last, few, months, ko...</td>\n",
              "    </tr>\n",
              "    <tr>\n",
              "      <th>314</th>\n",
              "      <td>315</td>\n",
              "      <td>NaN</td>\n",
              "      <td>NaN</td>\n",
              "      <td>19.0</td>\n",
              "      <td>여</td>\n",
              "      <td>let's stop wasting our youth</td>\n",
              "      <td>NaN</td>\n",
              "      <td>NaN</td>\n",
              "      <td>festivals, music, concerts, parties, designer</td>\n",
              "      <td>NaN</td>\n",
              "      <td>lets stop wasting our youth festivals, music, ...</td>\n",
              "      <td>[lets, stop, wasting, our, youth, festivals, m...</td>\n",
              "    </tr>\n",
              "    <tr>\n",
              "      <th>338</th>\n",
              "      <td>339</td>\n",
              "      <td>NaN</td>\n",
              "      <td>NaN</td>\n",
              "      <td>18.0</td>\n",
              "      <td>여</td>\n",
              "      <td>send me ur snap if we match</td>\n",
              "      <td>NaN</td>\n",
              "      <td>NaN</td>\n",
              "      <td>420friendly, drinker, smoker, parties</td>\n",
              "      <td>NaN</td>\n",
              "      <td>send me ur snap if we match  420friendly, drin...</td>\n",
              "      <td>[send, ur, snap, we, match, friendly, drinker,...</td>\n",
              "    </tr>\n",
              "  </tbody>\n",
              "</table>\n",
              "</div>"
            ],
            "text/plain": [
              "     Unnamed: 0  ...                                              token\n",
              "106         107  ...  [mba, exchange, student, duesseldorf, germany,...\n",
              "173         174  ...  [i, dont, use, tinder, 인스타그램, fashion, model, ...\n",
              "187         188  ...  [korea, states, nature, party, camping, music,...\n",
              "240         241  ...  [home, is, last, pic, party, cars, anie, gamer...\n",
              "304         305  ...  [i, just, trying, enjoy, last, few, months, ko...\n",
              "314         315  ...  [lets, stop, wasting, our, youth, festivals, m...\n",
              "338         339  ...  [send, ur, snap, we, match, friendly, drinker,...\n",
              "\n",
              "[7 rows x 12 columns]"
            ]
          },
          "metadata": {
            "tags": []
          },
          "execution_count": 3760
        }
      ]
    },
    {
      "cell_type": "code",
      "metadata": {
        "id": "yIthpCDdWg0p",
        "colab": {
          "base_uri": "https://localhost:8080/",
          "height": 35
        },
        "outputId": "d85972d8-26a2-49f3-c33c-3142298fb492"
      },
      "source": [
        "df['text'][338]"
      ],
      "execution_count": null,
      "outputs": [
        {
          "output_type": "execute_result",
          "data": {
            "text/plain": [
              "'send me ur snap if we match  420friendly, drinker, smoker, parties'"
            ]
          },
          "metadata": {
            "tags": []
          },
          "execution_count": 3761
        }
      ]
    },
    {
      "cell_type": "markdown",
      "metadata": {
        "id": "nbmyTBqVT-z9"
      },
      "source": [
        "1음절 삭제"
      ]
    },
    {
      "cell_type": "code",
      "metadata": {
        "id": "Oonoex3QHw-a"
      },
      "source": [
        "hangul_1 = regex.compile(r'^\\p{Hangul}{1}$')"
      ],
      "execution_count": null,
      "outputs": []
    },
    {
      "cell_type": "code",
      "metadata": {
        "id": "crtuAiQ1Hw-d"
      },
      "source": [
        "# '일' or '돈' 이라는 1음절 단어는 살리고 싶다면?\n",
        "hangul_1_except = regex.compile(r'^(?!일|돈|키|술|겜|썸|롤|살|답|몸|밥|나|저|너)\\p{Hangul}{1}$')"
      ],
      "execution_count": null,
      "outputs": []
    },
    {
      "cell_type": "code",
      "metadata": {
        "id": "cpE7BG7BHw-f",
        "colab": {
          "base_uri": "https://localhost:8080/",
          "height": 234
        },
        "outputId": "4d738308-b15a-4e18-da73-8c3422812356"
      },
      "source": [
        "df['token'].map(lambda x:[w for w in x if not hangul_1_except.match(w)])"
      ],
      "execution_count": null,
      "outputs": [
        {
          "output_type": "execute_result",
          "data": {
            "text/plain": [
              "0        [일, 많이, 바쁘다, 답, 느리다, 심심, 수다, 드라이브, 애완동물, 산책, 술]\n",
              "1                   [출장, 잠시, 지방, 내려가다, 메이트, 술, 새롭다, 배우다]\n",
              "2      [doctor, dental, surgery, neither, married, en...\n",
              "3      [france, french, living, 서울, i, cannot, lick, ...\n",
              "4                                                     []\n",
              "                             ...                        \n",
              "494    [ons, fwb, go, hell, fuck, off, just, wanna, t...\n",
              "495                     [감성, 맞다, 남자, 타투, youtube, aneui]\n",
              "496    [인스타, 연하다, 좋아, 어리다, 좋아, 연애, 사람, 찾다, 술, no, int...\n",
              "497    [출근, 싶다, 나이, 살, 빼다, 쉽다, 않다, 나이, 그래서, 어쩌라고, 싶다,...\n",
              "498    [서울, 살다, 직장인, no, fwb, non, smoker, cm, 동네, 친구...\n",
              "Name: token, Length: 499, dtype: object"
            ]
          },
          "metadata": {
            "tags": []
          },
          "execution_count": 3764
        }
      ]
    },
    {
      "cell_type": "code",
      "metadata": {
        "id": "cZCJDQdRHw-h"
      },
      "source": [
        "df['token'] = df['token'].map(lambda x:[w for w in x if not hangul_1_except.match(w)])"
      ],
      "execution_count": null,
      "outputs": []
    },
    {
      "cell_type": "code",
      "metadata": {
        "id": "c6yT1-AM64AU",
        "colab": {
          "base_uri": "https://localhost:8080/",
          "height": 234
        },
        "outputId": "fd72071f-9b91-4cfc-f0bc-46441313fd60"
      },
      "source": [
        "df['token']"
      ],
      "execution_count": null,
      "outputs": [
        {
          "output_type": "execute_result",
          "data": {
            "text/plain": [
              "0        [일, 많이, 바쁘다, 답, 느리다, 심심, 수다, 드라이브, 애완동물, 산책, 술]\n",
              "1                   [출장, 잠시, 지방, 내려가다, 메이트, 술, 새롭다, 배우다]\n",
              "2      [doctor, dental, surgery, neither, married, en...\n",
              "3      [france, french, living, 서울, i, cannot, lick, ...\n",
              "4                                                     []\n",
              "                             ...                        \n",
              "494    [ons, fwb, go, hell, fuck, off, just, wanna, t...\n",
              "495                     [감성, 맞다, 남자, 타투, youtube, aneui]\n",
              "496    [인스타, 연하다, 좋아, 어리다, 좋아, 연애, 사람, 찾다, 술, no, int...\n",
              "497    [출근, 싶다, 나이, 살, 빼다, 쉽다, 않다, 나이, 그래서, 어쩌라고, 싶다,...\n",
              "498    [서울, 살다, 직장인, no, fwb, non, smoker, cm, 동네, 친구...\n",
              "Name: token, Length: 499, dtype: object"
            ]
          },
          "metadata": {
            "tags": []
          },
          "execution_count": 3766
        }
      ]
    },
    {
      "cell_type": "code",
      "metadata": {
        "id": "WG8EOrEX2aNo",
        "colab": {
          "base_uri": "https://localhost:8080/",
          "height": 55
        },
        "outputId": "de4aa824-d1f1-4ece-8b5b-fc1e0ce10234"
      },
      "source": [
        "df['text'][494]"
      ],
      "execution_count": null,
      "outputs": [
        {
          "output_type": "execute_result",
          "data": {
            "text/plain": [
              "'ons, fwb -> go to hell and fuck off just wanna talk about new topics and meet some new friends more or less 멀쩡하게 돈 벌고 잘 먹고 잘 사는 그냥 사람 원래 사람 구경이 제일 재밌잖아요 카톡으로 넘어가자고 하기 전에 목적을 밝히세요 앞뒤 다른 사람은 그런 사람끼리 만났으면 새로운 것 배우기, 커피 한 잔, 동네 산책'"
            ]
          },
          "metadata": {
            "tags": []
          },
          "execution_count": 3767
        }
      ]
    },
    {
      "cell_type": "markdown",
      "metadata": {
        "id": "ZX62Hju5QjKH"
      },
      "source": [
        "## 한글 토큰의 단순 빈도수"
      ]
    },
    {
      "cell_type": "code",
      "metadata": {
        "id": "sYs5bJnH7I5L"
      },
      "source": [
        "tf_vectorizer = CountVectorizer(analyzer='word',\n",
        "                             lowercase=False,\n",
        "                             tokenizer=None,\n",
        "                             preprocessor=None,\n",
        "                             min_df=2,\n",
        "                             )"
      ],
      "execution_count": null,
      "outputs": []
    },
    {
      "cell_type": "code",
      "metadata": {
        "id": "nwla-a957N9L"
      },
      "source": [
        "tf_vector = tf_vectorizer.fit_transform(df['token'].astype(str))"
      ],
      "execution_count": null,
      "outputs": []
    },
    {
      "cell_type": "code",
      "metadata": {
        "id": "cAd117YE7Rlj",
        "colab": {
          "base_uri": "https://localhost:8080/",
          "height": 55
        },
        "outputId": "2d3000e5-a6bd-4d48-be68-9093d6451a59"
      },
      "source": [
        "# 빈도수 내림차순으로 정렬\n",
        "tf_scores = tf_vector.toarray().sum(axis=0)\n",
        "tf_idx = np.argsort(-tf_scores)\n",
        "tf_scores = tf_scores[tf_idx]\n",
        "tf_vocab = np.array(tf_vectorizer.get_feature_names())[tf_idx]\n",
        "\n",
        "# 상위 50개 단어\n",
        "print(list(zip(tf_vocab, tf_scores))[:50])"
      ],
      "execution_count": null,
      "outputs": [
        {
          "output_type": "stream",
          "text": [
            "[('산책', 131), ('커피', 120), ('심심', 118), ('대화', 107), ('영화', 106), ('동네', 99), ('수다', 99), ('솔직', 92), ('카페', 84), ('사람', 79), ('여행', 76), ('친구', 69), ('한강', 69), ('치맥', 68), ('스타', 63), ('드라이브', 59), ('감성', 56), ('korea', 55), ('좋아하다', 55), ('교환', 54), ('언어', 53), ('전시회', 52), ('배우다', 48), ('새롭다', 48), ('fwb', 45), ('no', 40), ('you', 40), ('애완동물', 35), ('korean', 33), ('인스타그램', 32), ('쇼핑', 31), ('friends', 30), ('music', 29), ('메이트', 28), ('피씨방', 28), ('english', 27), ('cm', 25), ('not', 25), ('운동', 24), ('주다', 23), ('보다', 23), ('좋다', 22), ('with', 22), ('love', 21), ('인스타', 21), ('like', 21), ('찾다', 20), ('seoul', 20), ('스포츠', 19), ('같이', 19)]\n"
          ],
          "name": "stdout"
        }
      ]
    },
    {
      "cell_type": "markdown",
      "metadata": {
        "id": "B9VtoHsVRlEn"
      },
      "source": [
        "# 1. 프로필 문구: DMR 토픽 모델링"
      ]
    },
    {
      "cell_type": "markdown",
      "metadata": {
        "id": "d7FKKNDgIKnJ"
      },
      "source": [
        "## 나이 범주화 (연속의 수치형 값을 범주형 값으로)\n",
        "\n",
        "\n",
        "https://blog.naver.com/youji4ever/221671830297\n",
        "\n",
        "수치 범위 구간을 직접 지정해서 레이블링한다.\n",
        "\n"
      ]
    },
    {
      "cell_type": "code",
      "metadata": {
        "id": "5GzC7FYSkzEQ"
      },
      "source": [
        "df['age_band'] = 0"
      ],
      "execution_count": null,
      "outputs": []
    },
    {
      "cell_type": "code",
      "metadata": {
        "id": "XtMAPRINk36I",
        "colab": {
          "base_uri": "https://localhost:8080/",
          "height": 89
        },
        "outputId": "3b43327f-b8ad-4808-b50f-d0cec4183a72"
      },
      "source": [
        "df.loc[df['age'] < 30, 'age_band'] = ' 20대 이하'\n",
        "df.loc[df['age']  >= 30, 'age_band'] = '30대 이상'\n",
        "df['age_band'].value_counts()"
      ],
      "execution_count": null,
      "outputs": [
        {
          "output_type": "execute_result",
          "data": {
            "text/plain": [
              " 20대 이하    403\n",
              "30대 이상      76\n",
              "0           20\n",
              "Name: age_band, dtype: int64"
            ]
          },
          "metadata": {
            "tags": []
          },
          "execution_count": 3772
        }
      ]
    },
    {
      "cell_type": "code",
      "metadata": {
        "id": "EOJao22DLph8"
      },
      "source": [
        "idx_nm_1 = df[df['age_band'] == 0].index\n",
        "df = df.drop(idx_nm_1)"
      ],
      "execution_count": null,
      "outputs": []
    },
    {
      "cell_type": "code",
      "metadata": {
        "id": "sXPV91hhtNbP",
        "colab": {
          "base_uri": "https://localhost:8080/",
          "height": 234
        },
        "outputId": "306cc259-e804-45fe-967a-8d5179c31573"
      },
      "source": [
        "df['gender']"
      ],
      "execution_count": null,
      "outputs": [
        {
          "output_type": "execute_result",
          "data": {
            "text/plain": [
              "0      남\n",
              "1      남\n",
              "2      남\n",
              "3      남\n",
              "4      남\n",
              "      ..\n",
              "494    여\n",
              "495    여\n",
              "496    여\n",
              "497    여\n",
              "498    여\n",
              "Name: gender, Length: 479, dtype: object"
            ]
          },
          "metadata": {
            "tags": []
          },
          "execution_count": 3774
        }
      ]
    },
    {
      "cell_type": "code",
      "metadata": {
        "id": "I_kPXJWPJp5M"
      },
      "source": [
        "#  TypeError: must be str, not float 떠서 추가(21:30)\n",
        "df['age_band'] = df['age_band'].apply(lambda x: str(x))\n",
        "df['gender'] = df['gender'].apply(lambda x: str(x))\n",
        "df['age_gender'] = df.apply(lambda x:x['age_band']+' '+x['gender'],axis=1) # 나이대+성별"
      ],
      "execution_count": null,
      "outputs": []
    },
    {
      "cell_type": "markdown",
      "metadata": {
        "id": "DOb4Ha0lk1oh"
      },
      "source": [
        "## 메타데이터 **성별** \n",
        "\n",
        "- 남\n",
        "- 여\n"
      ]
    },
    {
      "cell_type": "code",
      "metadata": {
        "id": "yPgvKmzBcdUn",
        "colab": {
          "base_uri": "https://localhost:8080/",
          "height": 71
        },
        "outputId": "6511101b-a0b7-4d61-deb5-484ba5309de7"
      },
      "source": [
        "df['age_band'][df['gender']=='남'].value_counts()"
      ],
      "execution_count": null,
      "outputs": [
        {
          "output_type": "execute_result",
          "data": {
            "text/plain": [
              " 20대 이하    208\n",
              "30대 이상      47\n",
              "Name: age_band, dtype: int64"
            ]
          },
          "metadata": {
            "tags": []
          },
          "execution_count": 3776
        }
      ]
    },
    {
      "cell_type": "code",
      "metadata": {
        "id": "RFF6K7m4-uaV",
        "colab": {
          "base_uri": "https://localhost:8080/",
          "height": 71
        },
        "outputId": "7e5edf40-0c20-4884-c85d-08b5fd952f36"
      },
      "source": [
        "df['age_band'][df['gender']=='여'].value_counts()"
      ],
      "execution_count": null,
      "outputs": [
        {
          "output_type": "execute_result",
          "data": {
            "text/plain": [
              " 20대 이하    195\n",
              "30대 이상      29\n",
              "Name: age_band, dtype: int64"
            ]
          },
          "metadata": {
            "tags": []
          },
          "execution_count": 3777
        }
      ]
    },
    {
      "cell_type": "code",
      "metadata": {
        "id": "6DoLCtr1BFKr",
        "colab": {
          "base_uri": "https://localhost:8080/",
          "height": 35
        },
        "outputId": "9a0da903-6896-47a2-c606-8a8c5f41e4bc"
      },
      "source": [
        "!pip install tqdm\n",
        "from tqdm import tqdm\n",
        "tqdm.pandas()"
      ],
      "execution_count": null,
      "outputs": [
        {
          "output_type": "stream",
          "text": [
            "Requirement already satisfied: tqdm in /usr/local/lib/python3.6/dist-packages (4.41.1)\n"
          ],
          "name": "stdout"
        }
      ]
    },
    {
      "cell_type": "code",
      "metadata": {
        "id": "pUmdTbKG-iP8"
      },
      "source": [
        "DMR_model = tp.DMRModel(k=4,min_cf=5,tw=tp.TermWeight.IDF,rm_top=5)"
      ],
      "execution_count": null,
      "outputs": []
    },
    {
      "cell_type": "code",
      "metadata": {
        "id": "ukCbtq20Ayzd",
        "colab": {
          "base_uri": "https://localhost:8080/",
          "height": 35
        },
        "outputId": "a81da533-ba27-4395-ef07-948d8b63855e"
      },
      "source": [
        "token_gender_dict = df[['token','gender']].to_dict('index')\n",
        "for k in tqdm(token_gender_dict.keys()):\n",
        "    DMR_model.add_doc(token_gender_dict[k]['token'],token_gender_dict[k]['gender'])"
      ],
      "execution_count": null,
      "outputs": [
        {
          "output_type": "stream",
          "text": [
            "100%|██████████| 479/479 [00:00<00:00, 61355.07it/s]\n"
          ],
          "name": "stderr"
        }
      ]
    },
    {
      "cell_type": "code",
      "metadata": {
        "id": "7JmezU4yBPwN"
      },
      "source": [
        "DMR_model.train(0)"
      ],
      "execution_count": null,
      "outputs": []
    },
    {
      "cell_type": "code",
      "metadata": {
        "id": "bYhdppVFBRmn",
        "colab": {
          "base_uri": "https://localhost:8080/",
          "height": 524
        },
        "outputId": "5558d6dd-3512-4ae9-8279-b23892dcc9f1"
      },
      "source": [
        "# 한번에 20회씩 총 500회 학습\n",
        "print('Num docs:', len(DMR_model.docs), ', Vocab size:', DMR_model.num_vocabs, ', Num words:', DMR_model.num_words)\n",
        "print('Removed top words:', DMR_model.removed_top_words)\n",
        "print('Training...', file=sys.stderr, flush=True)\n",
        "for i in range(0, 500, 20):\n",
        "    DMR_model.train(20)\n",
        "    print('Iteration: {}\\tLog-likelihood: {}'.format(i, DMR_model.ll_per_word))"
      ],
      "execution_count": null,
      "outputs": [
        {
          "output_type": "stream",
          "text": [
            "Training...\n"
          ],
          "name": "stderr"
        },
        {
          "output_type": "stream",
          "text": [
            "Num docs: 478 , Vocab size: 219 , Num words: 3484\n",
            "Removed top words: ['술', 'i', '산책', '커피', '심심']\n",
            "Iteration: 0\tLog-likelihood: -18.204541125934654\n",
            "Iteration: 20\tLog-likelihood: -17.899870810429345\n",
            "Iteration: 40\tLog-likelihood: -17.71690963668028\n",
            "Iteration: 60\tLog-likelihood: -17.647620909634536\n",
            "Iteration: 80\tLog-likelihood: -17.568110427253554\n",
            "Iteration: 100\tLog-likelihood: -17.510165409784847\n",
            "Iteration: 120\tLog-likelihood: -17.52836810888126\n",
            "Iteration: 140\tLog-likelihood: -17.51994257235534\n",
            "Iteration: 160\tLog-likelihood: -17.51659542974833\n",
            "Iteration: 180\tLog-likelihood: -17.518040675562982\n",
            "Iteration: 200\tLog-likelihood: -17.52360062168571\n",
            "Iteration: 220\tLog-likelihood: -17.536049756575398\n",
            "Iteration: 240\tLog-likelihood: -17.539100503974545\n",
            "Iteration: 260\tLog-likelihood: -17.54397416969357\n",
            "Iteration: 280\tLog-likelihood: -17.516092197278816\n",
            "Iteration: 300\tLog-likelihood: -17.511870528600177\n",
            "Iteration: 320\tLog-likelihood: -17.51240676330952\n",
            "Iteration: 340\tLog-likelihood: -17.496387123471354\n",
            "Iteration: 360\tLog-likelihood: -17.512788637916543\n",
            "Iteration: 380\tLog-likelihood: -17.501456939060365\n",
            "Iteration: 400\tLog-likelihood: -17.510581475388513\n",
            "Iteration: 420\tLog-likelihood: -17.5250564129033\n",
            "Iteration: 440\tLog-likelihood: -17.539526346159924\n",
            "Iteration: 460\tLog-likelihood: -17.521183746733225\n",
            "Iteration: 480\tLog-likelihood: -17.52881230777461\n"
          ],
          "name": "stdout"
        }
      ]
    },
    {
      "cell_type": "code",
      "metadata": {
        "id": "gR7NaJEbBToS",
        "colab": {
          "base_uri": "https://localhost:8080/",
          "height": 89
        },
        "outputId": "2f8f7a15-9870-4e9d-e01d-d8e3e78dd56e"
      },
      "source": [
        "for i in range(DMR_model.k):\n",
        "    res = DMR_model.get_topic_words(i, top_n=10)\n",
        "    print('Topic #{}'.format(i), end='\\t')\n",
        "    print(', '.join(w for w, p in res))"
      ],
      "execution_count": null,
      "outputs": [
        {
          "output_type": "stream",
          "text": [
            "Topic #0\tyou, korea, korean, friends, music, not, english, like, with, seoul\n",
            "Topic #1\twoman, 주말, no, ons, fwb, 사람, 만나다, 보다, 찾다, 솔직\n",
            "Topic #2\t생각, 만나다, , 않다, 가볍다, 되다, talk, you, 편하다, 드라이브\n",
            "Topic #3\t대화, 영화, 동네, 수다, 카페, 솔직, 사람, 친구, 여행, 한강\n"
          ],
          "name": "stdout"
        }
      ]
    },
    {
      "cell_type": "code",
      "metadata": {
        "id": "7pMKSH7WBVp9",
        "colab": {
          "base_uri": "https://localhost:8080/",
          "height": 960
        },
        "outputId": "4e993a46-061a-4175-fe44-680bfca8c4fa"
      },
      "source": [
        "# extract candidates for auto topic labeling\n",
        "extractor = tp.label.PMIExtractor(min_cf=10, min_df=5, max_len=5, max_cand=10000)\n",
        "cands = extractor.extract(DMR_model)\n",
        "\n",
        "labeler = tp.label.FoRelevance(DMR_model, cands, min_df=5, smoothing=1e-2, mu=0.25)\n",
        "for k in range(DMR_model.k):\n",
        "    print(\"== Topic #{} ==\".format(k))\n",
        "    print(\"Labels:\", ', '.join(label for label, score in labeler.get_topic_labels(k, top_n=5)))\n",
        "    for word, prob in DMR_model.get_topic_words(k, top_n=10):\n",
        "        print(word, prob, sep='\\t')\n",
        "    print()"
      ],
      "execution_count": null,
      "outputs": [
        {
          "output_type": "stream",
          "text": [
            "== Topic #0 ==\n",
            "Labels: i, friends, not, with, want\n",
            "you\t0.028078164905309677\n",
            "korea\t0.025908058509230614\n",
            "korean\t0.02159619703888893\n",
            "friends\t0.021150536835193634\n",
            "music\t0.020612241700291634\n",
            "not\t0.019076762720942497\n",
            "english\t0.0174813624471426\n",
            "like\t0.016966380178928375\n",
            "with\t0.016439959406852722\n",
            "seoul\t0.016158577054739\n",
            "\n",
            "== Topic #1 ==\n",
            "Labels: ons, 보다, fwb, 사람, no fwb\n",
            "woman\t0.21368420124053955\n",
            "주말\t0.16798309981822968\n",
            "no\t0.13144095242023468\n",
            "ons\t0.1059916540980339\n",
            "fwb\t0.0854407399892807\n",
            "사람\t0.08543477952480316\n",
            "만나다\t0.07951129972934723\n",
            "보다\t0.06799980998039246\n",
            "찾다\t0.04776965454220772\n",
            "솔직\t7.023618672974408e-05\n",
            "\n",
            "== Topic #2 ==\n",
            "Labels: 만나다, 안녕하세요, 찾다, 이야기, 주다\n",
            "생각\t0.3032457232475281\n",
            "만나다\t0.2656906247138977\n",
            "\t0.2082860916852951\n",
            "않다\t0.08648454397916794\n",
            "가볍다\t0.061731789261102676\n",
            "되다\t0.059560611844062805\n",
            "talk\t7.044774974929169e-05\n",
            "you\t7.044774974929169e-05\n",
            "편하다\t7.044774974929169e-05\n",
            "드라이브\t7.043767982395366e-05\n",
            "\n",
            "== Topic #3 ==\n",
            "Labels: 술, 대화, 커피, 산책, 솔직 대화\n",
            "대화\t0.02662699855864048\n",
            "영화\t0.026453029364347458\n",
            "동네\t0.025572529062628746\n",
            "수다\t0.02540544979274273\n",
            "카페\t0.024875469505786896\n",
            "솔직\t0.024362361058592796\n",
            "사람\t0.023171434178948402\n",
            "친구\t0.02219242788851261\n",
            "여행\t0.022111698985099792\n",
            "한강\t0.02152891643345356\n",
            "\n"
          ],
          "name": "stdout"
        }
      ]
    },
    {
      "cell_type": "code",
      "metadata": {
        "id": "jiOfq8KnC2wz",
        "colab": {
          "base_uri": "https://localhost:8080/",
          "height": 35
        },
        "outputId": "6c135085-4faf-4e9b-c9b1-15869bc41ef7"
      },
      "source": [
        "DMR_model.metadata_dict"
      ],
      "execution_count": null,
      "outputs": [
        {
          "output_type": "execute_result",
          "data": {
            "text/plain": [
              "['남', '여']"
            ]
          },
          "metadata": {
            "tags": []
          },
          "execution_count": 3785
        }
      ]
    },
    {
      "cell_type": "code",
      "metadata": {
        "id": "30hiZzQCC4pG",
        "colab": {
          "base_uri": "https://localhost:8080/",
          "height": 89
        },
        "outputId": "399e8793-4c5a-42ec-ba64-788a3b4b35eb"
      },
      "source": [
        "DMR_model.lambdas"
      ],
      "execution_count": null,
      "outputs": [
        {
          "output_type": "execute_result",
          "data": {
            "text/plain": [
              "array([[-2.3875928, -5.515804 ],\n",
              "       [-5.515804 , -4.7203536],\n",
              "       [-4.7203536, -1.8431978],\n",
              "       [-1.8431978, -2.7599304]], dtype=float32)"
            ]
          },
          "metadata": {
            "tags": []
          },
          "execution_count": 3786
        }
      ]
    },
    {
      "cell_type": "code",
      "metadata": {
        "id": "mD6091TVC642",
        "colab": {
          "base_uri": "https://localhost:8080/",
          "height": 89
        },
        "outputId": "247bfe2d-7495-425b-daa9-69d17a315784"
      },
      "source": [
        "np.exp(DMR_model.lambdas)"
      ],
      "execution_count": null,
      "outputs": [
        {
          "output_type": "execute_result",
          "data": {
            "text/plain": [
              "array([[0.09185052, 0.00402269],\n",
              "       [0.00402269, 0.00891203],\n",
              "       [0.00891203, 0.15831037],\n",
              "       [0.15831037, 0.06329618]], dtype=float32)"
            ]
          },
          "metadata": {
            "tags": []
          },
          "execution_count": 3787
        }
      ]
    },
    {
      "cell_type": "code",
      "metadata": {
        "id": "rMb4-GJbC856",
        "colab": {
          "base_uri": "https://localhost:8080/",
          "height": 35
        },
        "outputId": "fc425717-4451-464c-e74a-fc6b87d7fe30"
      },
      "source": [
        "np.exp(DMR_model.lambdas)[:,0] / np.exp(DMR_model.lambdas)[:,0].sum()"
      ],
      "execution_count": null,
      "outputs": [
        {
          "output_type": "execute_result",
          "data": {
            "text/plain": [
              "array([0.3491146 , 0.01528985, 0.03387372, 0.6017218 ], dtype=float32)"
            ]
          },
          "metadata": {
            "tags": []
          },
          "execution_count": 3788
        }
      ]
    },
    {
      "cell_type": "code",
      "metadata": {
        "id": "Hib3fPbrDAvE",
        "colab": {
          "base_uri": "https://localhost:8080/",
          "height": 35
        },
        "outputId": "7f46d240-bee2-4b12-d2d4-08758afea412"
      },
      "source": [
        "np.exp(DMR_model.lambdas)[:,1] / np.exp(DMR_model.lambdas)[:,1].sum()"
      ],
      "execution_count": null,
      "outputs": [
        {
          "output_type": "execute_result",
          "data": {
            "text/plain": [
              "array([0.01715132, 0.03799769, 0.67497873, 0.26987225], dtype=float32)"
            ]
          },
          "metadata": {
            "tags": []
          },
          "execution_count": 3789
        }
      ]
    },
    {
      "cell_type": "markdown",
      "metadata": {
        "id": "mtAH15evDiNs"
      },
      "source": [
        "## 메타데이터 **나이** \n",
        "\n",
        "- 20대 이하\n",
        "- 30대 이상"
      ]
    },
    {
      "cell_type": "code",
      "metadata": {
        "id": "nt9ROY_6DjZj"
      },
      "source": [
        "DMR_model = tp.DMRModel(k=4,min_cf=5,tw=tp.TermWeight.IDF,rm_top=5)"
      ],
      "execution_count": null,
      "outputs": []
    },
    {
      "cell_type": "code",
      "metadata": {
        "id": "NNboGWrjD2-W"
      },
      "source": [
        "df['age_band'] = df['age_band'].apply(lambda x: str(x))"
      ],
      "execution_count": null,
      "outputs": []
    },
    {
      "cell_type": "code",
      "metadata": {
        "id": "3lVGGyaLDjZv",
        "colab": {
          "base_uri": "https://localhost:8080/",
          "height": 35
        },
        "outputId": "9069c015-d9ee-4ca5-e673-16b7056f450f"
      },
      "source": [
        "token_age_dict = df[['token','age_band']].to_dict('index')\n",
        "for k in tqdm(token_age_dict.keys()):\n",
        "    DMR_model.add_doc(token_age_dict[k]['token'],token_age_dict[k]['age_band'])"
      ],
      "execution_count": null,
      "outputs": [
        {
          "output_type": "stream",
          "text": [
            "100%|██████████| 479/479 [00:00<00:00, 73176.89it/s]\n"
          ],
          "name": "stderr"
        }
      ]
    },
    {
      "cell_type": "code",
      "metadata": {
        "id": "jo2KoDWvDjZ4"
      },
      "source": [
        "DMR_model.train(0)"
      ],
      "execution_count": null,
      "outputs": []
    },
    {
      "cell_type": "code",
      "metadata": {
        "id": "JYbK_omzDjZ_",
        "colab": {
          "base_uri": "https://localhost:8080/",
          "height": 524
        },
        "outputId": "2fafd90b-9cbb-44a6-e081-880f4c1a3b6b"
      },
      "source": [
        "# 한번에 20회씩 총 500회 학습\n",
        "print('Num docs:', len(DMR_model.docs), ', Vocab size:', DMR_model.num_vocabs, ', Num words:', DMR_model.num_words)\n",
        "print('Removed top words:', DMR_model.removed_top_words)\n",
        "print('Training...', file=sys.stderr, flush=True)\n",
        "for i in range(0, 500, 20):\n",
        "    DMR_model.train(20)\n",
        "    print('Iteration: {}\\tLog-likelihood: {}'.format(i, DMR_model.ll_per_word))"
      ],
      "execution_count": null,
      "outputs": [
        {
          "output_type": "stream",
          "text": [
            "Training...\n"
          ],
          "name": "stderr"
        },
        {
          "output_type": "stream",
          "text": [
            "Num docs: 478 , Vocab size: 219 , Num words: 3484\n",
            "Removed top words: ['술', 'i', '산책', '커피', '심심']\n",
            "Iteration: 0\tLog-likelihood: -18.13477083565892\n",
            "Iteration: 20\tLog-likelihood: -17.70854592428518\n",
            "Iteration: 40\tLog-likelihood: -17.52645619645561\n",
            "Iteration: 60\tLog-likelihood: -17.43242769268364\n",
            "Iteration: 80\tLog-likelihood: -17.372175317296136\n",
            "Iteration: 100\tLog-likelihood: -17.324747161257555\n",
            "Iteration: 120\tLog-likelihood: -17.291042121018183\n",
            "Iteration: 140\tLog-likelihood: -17.277613888035958\n",
            "Iteration: 160\tLog-likelihood: -17.260579126753367\n",
            "Iteration: 180\tLog-likelihood: -17.26378385918525\n",
            "Iteration: 200\tLog-likelihood: -17.257601092855023\n",
            "Iteration: 220\tLog-likelihood: -17.261253176930644\n",
            "Iteration: 240\tLog-likelihood: -17.22784207920393\n",
            "Iteration: 260\tLog-likelihood: -17.19556763519273\n",
            "Iteration: 280\tLog-likelihood: -17.201684244764042\n",
            "Iteration: 300\tLog-likelihood: -17.18856094874245\n",
            "Iteration: 320\tLog-likelihood: -17.191583210963813\n",
            "Iteration: 340\tLog-likelihood: -17.196486521644857\n",
            "Iteration: 360\tLog-likelihood: -17.195246282892235\n",
            "Iteration: 380\tLog-likelihood: -17.211111802492294\n",
            "Iteration: 400\tLog-likelihood: -17.228672378603477\n",
            "Iteration: 420\tLog-likelihood: -17.24137813831443\n",
            "Iteration: 440\tLog-likelihood: -17.223748474654524\n",
            "Iteration: 460\tLog-likelihood: -17.22370944847914\n",
            "Iteration: 480\tLog-likelihood: -17.23668287630299\n"
          ],
          "name": "stdout"
        }
      ]
    },
    {
      "cell_type": "code",
      "metadata": {
        "id": "rKZGMsgUDjaI",
        "colab": {
          "base_uri": "https://localhost:8080/",
          "height": 89
        },
        "outputId": "142eeced-fd97-426c-ad95-ac53ab1144c8"
      },
      "source": [
        "for i in range(DMR_model.k):\n",
        "    res = DMR_model.get_topic_words(i, top_n=4)\n",
        "    print('Topic #{}'.format(i), end='\\t')\n",
        "    print(', '.join(w for w, p in res))"
      ],
      "execution_count": null,
      "outputs": [
        {
          "output_type": "stream",
          "text": [
            "Topic #0\tyou, friends, not, like\n",
            "Topic #1\tkorea, music, movies, states\n",
            "Topic #2\t사람, no, fwb, 저\n",
            "Topic #3\t영화, 동네, 수다, 대화\n"
          ],
          "name": "stdout"
        }
      ]
    },
    {
      "cell_type": "code",
      "metadata": {
        "id": "6NJ3ods4DjaM",
        "colab": {
          "base_uri": "https://localhost:8080/",
          "height": 960
        },
        "outputId": "c23ea500-d1ae-4d79-892d-9ad2853ad3f9"
      },
      "source": [
        "# extract candidates for auto topic labeling\n",
        "extractor = tp.label.PMIExtractor(min_cf=10, min_df=5, max_len=5, max_cand=10000)\n",
        "cands = extractor.extract(DMR_model)\n",
        "\n",
        "labeler = tp.label.FoRelevance(DMR_model, cands, min_df=5, smoothing=1e-2, mu=0.25)\n",
        "for k in range(DMR_model.k):\n",
        "    print(\"== Topic #{} ==\".format(k))\n",
        "    print(\"Labels:\", ', '.join(label for label, score in labeler.get_topic_labels(k, top_n=5)))\n",
        "    for word, prob in DMR_model.get_topic_words(k, top_n=10):\n",
        "        print(word, prob, sep='\\t')\n",
        "    print()"
      ],
      "execution_count": null,
      "outputs": [
        {
          "output_type": "stream",
          "text": [
            "== Topic #0 ==\n",
            "Labels: want, friends, i, not, you\n",
            "you\t0.03997664898633957\n",
            "friends\t0.030113350600004196\n",
            "not\t0.02716078981757164\n",
            "like\t0.024156104773283005\n",
            "looking\t0.021419700235128403\n",
            "love\t0.02140694484114647\n",
            "seoul\t0.02070574089884758\n",
            "can\t0.020597437396645546\n",
            "want\t0.01928531378507614\n",
            "with\t0.018948882818222046\n",
            "\n",
            "== Topic #1 ==\n",
            "Labels: movies, music, drinker, korea, nature\n",
            "korea\t0.06897681206464767\n",
            "music\t0.06859508156776428\n",
            "movies\t0.04814411699771881\n",
            "states\t0.04328800365328789\n",
            "fashion\t0.0368640311062336\n",
            "korean\t0.03593895211815834\n",
            "한국어\t0.0331193245947361\n",
            "nature\t0.03224112093448639\n",
            "drinker\t0.03224112093448639\n",
            "tattooss\t0.030691804364323616\n",
            "\n",
            "== Topic #2 ==\n",
            "Labels: 보다, 만나다, 사람, 찾다, 저\n",
            "사람\t0.051723379641771317\n",
            "no\t0.04309236630797386\n",
            "fwb\t0.035938724875450134\n",
            "저\t0.033768557012081146\n",
            "만나다\t0.03293643146753311\n",
            "보다\t0.030330715700984\n",
            "생각\t0.028918659314513206\n",
            "ons\t0.02787032164633274\n",
            "찾다\t0.027383679524064064\n",
            "되다\t0.025536159053444862\n",
            "\n",
            "== Topic #3 ==\n",
            "Labels: 심심 수다, 수다, 심심, 대화, 카페\n",
            "영화\t0.03289419040083885\n",
            "동네\t0.03179929405450821\n",
            "수다\t0.03159153088927269\n",
            "대화\t0.03147148713469505\n",
            "카페\t0.030932504683732986\n",
            "솔직\t0.03029445745050907\n",
            "여행\t0.027495771646499634\n",
            "한강\t0.02677108533680439\n",
            "치맥\t0.026169773191213608\n",
            "스타\t0.02534334734082222\n",
            "\n"
          ],
          "name": "stdout"
        }
      ]
    },
    {
      "cell_type": "code",
      "metadata": {
        "id": "f74Cs2LNDjaQ",
        "colab": {
          "base_uri": "https://localhost:8080/",
          "height": 35
        },
        "outputId": "e99a97f3-178d-46f9-c4f1-557178e4d641"
      },
      "source": [
        "DMR_model.metadata_dict"
      ],
      "execution_count": null,
      "outputs": [
        {
          "output_type": "execute_result",
          "data": {
            "text/plain": [
              "[' 20대 이하', '30대 이상']"
            ]
          },
          "metadata": {
            "tags": []
          },
          "execution_count": 3797
        }
      ]
    },
    {
      "cell_type": "code",
      "metadata": {
        "id": "0vzCUh5DDjaV",
        "colab": {
          "base_uri": "https://localhost:8080/",
          "height": 89
        },
        "outputId": "c4279247-c091-4326-b6ed-59e32dab63a7"
      },
      "source": [
        "DMR_model.lambdas"
      ],
      "execution_count": null,
      "outputs": [
        {
          "output_type": "execute_result",
          "data": {
            "text/plain": [
              "array([[-2.468582 , -3.2125092],\n",
              "       [-3.2125092, -2.809529 ],\n",
              "       [-2.809529 , -1.5609839],\n",
              "       [-1.5609839, -2.2831666]], dtype=float32)"
            ]
          },
          "metadata": {
            "tags": []
          },
          "execution_count": 3798
        }
      ]
    },
    {
      "cell_type": "code",
      "metadata": {
        "id": "T_KEdtGdDjaZ",
        "colab": {
          "base_uri": "https://localhost:8080/",
          "height": 89
        },
        "outputId": "6f8f3f58-cdf1-4fee-eb63-7657830c5cdd"
      },
      "source": [
        "np.exp(DMR_model.lambdas)"
      ],
      "execution_count": null,
      "outputs": [
        {
          "output_type": "execute_result",
          "data": {
            "text/plain": [
              "array([[0.08470489, 0.04025548],\n",
              "       [0.04025548, 0.06023335],\n",
              "       [0.06023335, 0.20992942],\n",
              "       [0.20992942, 0.10196082]], dtype=float32)"
            ]
          },
          "metadata": {
            "tags": []
          },
          "execution_count": 3799
        }
      ]
    },
    {
      "cell_type": "code",
      "metadata": {
        "id": "ahMemzbRDjac",
        "colab": {
          "base_uri": "https://localhost:8080/",
          "height": 35
        },
        "outputId": "0d268e10-b9b2-47c1-ddb7-ca3eadcd6a7d"
      },
      "source": [
        "np.exp(DMR_model.lambdas)[:,0] / np.exp(DMR_model.lambdas)[:,0].sum()"
      ],
      "execution_count": null,
      "outputs": [
        {
          "output_type": "execute_result",
          "data": {
            "text/plain": [
              "array([0.21437594, 0.10188085, 0.15244198, 0.53130126], dtype=float32)"
            ]
          },
          "metadata": {
            "tags": []
          },
          "execution_count": 3800
        }
      ]
    },
    {
      "cell_type": "code",
      "metadata": {
        "id": "PTpQtV2GDjag",
        "colab": {
          "base_uri": "https://localhost:8080/",
          "height": 35
        },
        "outputId": "11784977-1d05-47c2-f959-6a93fba3d2e3"
      },
      "source": [
        "np.exp(DMR_model.lambdas)[:,1] / np.exp(DMR_model.lambdas)[:,1].sum()"
      ],
      "execution_count": null,
      "outputs": [
        {
          "output_type": "execute_result",
          "data": {
            "text/plain": [
              "array([0.09761766, 0.14606306, 0.509069  , 0.24725023], dtype=float32)"
            ]
          },
          "metadata": {
            "tags": []
          },
          "execution_count": 3801
        }
      ]
    },
    {
      "cell_type": "markdown",
      "metadata": {
        "id": "cTs-OspdEH5U"
      },
      "source": [
        "## 메타데이터 **나이x성별**\n",
        "\n",
        "- 20대 이하 남\n",
        "- 30대 이상 여\n",
        "- 20대 이하 남\n",
        "- 30대 이상 여"
      ]
    },
    {
      "cell_type": "code",
      "metadata": {
        "id": "JelOkxeiMXR4"
      },
      "source": [
        "DMR_model = tp.DMRModel(k=4,min_cf=5,tw=tp.TermWeight.IDF,rm_top=5)"
      ],
      "execution_count": null,
      "outputs": []
    },
    {
      "cell_type": "code",
      "metadata": {
        "id": "zxWqDOREMXR_"
      },
      "source": [
        "df['age_gender'] = df['age_gender'].apply(lambda x: str(x))"
      ],
      "execution_count": null,
      "outputs": []
    },
    {
      "cell_type": "code",
      "metadata": {
        "id": "Tcb8jejUMXSD",
        "colab": {
          "base_uri": "https://localhost:8080/",
          "height": 35
        },
        "outputId": "e3e1cf3e-6038-4995-976f-ee370eca5e46"
      },
      "source": [
        "token_age_gender_dict = df[['token','age_gender']].to_dict('index')\n",
        "for k in tqdm(token_age_gender_dict.keys()):\n",
        "    DMR_model.add_doc(token_age_gender_dict[k]['token'],token_age_gender_dict[k]['age_gender'])"
      ],
      "execution_count": null,
      "outputs": [
        {
          "output_type": "stream",
          "text": [
            "100%|██████████| 479/479 [00:00<00:00, 66622.62it/s]\n"
          ],
          "name": "stderr"
        }
      ]
    },
    {
      "cell_type": "code",
      "metadata": {
        "id": "vr4qZqRnMXSH"
      },
      "source": [
        "DMR_model.train(0)"
      ],
      "execution_count": null,
      "outputs": []
    },
    {
      "cell_type": "code",
      "metadata": {
        "id": "kKtGogf5MXSK",
        "colab": {
          "base_uri": "https://localhost:8080/",
          "height": 524
        },
        "outputId": "9900913f-633b-4bd1-dcae-3fc1943d34bf"
      },
      "source": [
        "# 한번에 20회씩 총 500회 학습\n",
        "print('Num docs:', len(DMR_model.docs), ', Vocab size:', DMR_model.num_vocabs, ', Num words:', DMR_model.num_words)\n",
        "print('Removed top words:', DMR_model.removed_top_words)\n",
        "print('Training...', file=sys.stderr, flush=True)\n",
        "for i in range(0, 500, 20):\n",
        "    DMR_model.train(20)\n",
        "    print('Iteration: {}\\tLog-likelihood: {}'.format(i, DMR_model.ll_per_word))"
      ],
      "execution_count": null,
      "outputs": [
        {
          "output_type": "stream",
          "text": [
            "Training...\n"
          ],
          "name": "stderr"
        },
        {
          "output_type": "stream",
          "text": [
            "Num docs: 478 , Vocab size: 219 , Num words: 3484\n",
            "Removed top words: ['술', 'i', '산책', '커피', '심심']\n",
            "Iteration: 0\tLog-likelihood: -17.918989453135417\n",
            "Iteration: 20\tLog-likelihood: -17.75265640129007\n",
            "Iteration: 40\tLog-likelihood: -17.675187734130773\n",
            "Iteration: 60\tLog-likelihood: -17.55467205675988\n",
            "Iteration: 80\tLog-likelihood: -17.604390842641195\n",
            "Iteration: 100\tLog-likelihood: -17.51682745230766\n",
            "Iteration: 120\tLog-likelihood: -17.499556488826887\n",
            "Iteration: 140\tLog-likelihood: -17.46423215915189\n",
            "Iteration: 160\tLog-likelihood: -17.435830330867514\n",
            "Iteration: 180\tLog-likelihood: -17.42154835658116\n",
            "Iteration: 200\tLog-likelihood: -17.423784493091254\n",
            "Iteration: 220\tLog-likelihood: -17.471601055902948\n",
            "Iteration: 240\tLog-likelihood: -17.417839498533926\n",
            "Iteration: 260\tLog-likelihood: -17.383953335783715\n",
            "Iteration: 280\tLog-likelihood: -17.38638305105483\n",
            "Iteration: 300\tLog-likelihood: -17.371105784484016\n",
            "Iteration: 320\tLog-likelihood: -17.38026426295428\n",
            "Iteration: 340\tLog-likelihood: -17.376183115450576\n",
            "Iteration: 360\tLog-likelihood: -17.394198907648313\n",
            "Iteration: 380\tLog-likelihood: -17.37943908576474\n",
            "Iteration: 400\tLog-likelihood: -17.371104479203883\n",
            "Iteration: 420\tLog-likelihood: -17.38033819394496\n",
            "Iteration: 440\tLog-likelihood: -17.384210321774233\n",
            "Iteration: 460\tLog-likelihood: -17.396367358473633\n",
            "Iteration: 480\tLog-likelihood: -17.398488901110728\n"
          ],
          "name": "stdout"
        }
      ]
    },
    {
      "cell_type": "code",
      "metadata": {
        "id": "EM1MV2GKMXSR",
        "colab": {
          "base_uri": "https://localhost:8080/",
          "height": 89
        },
        "outputId": "6aaeb835-93e1-48eb-dc81-2f859efff1ee"
      },
      "source": [
        "for i in range(DMR_model.k):\n",
        "    res = DMR_model.get_topic_words(i, top_n=4)\n",
        "    print('Topic #{}'.format(i), end='\\t')\n",
        "    print(', '.join(w for w, p in res))"
      ],
      "execution_count": null,
      "outputs": [
        {
          "output_type": "stream",
          "text": [
            "Topic #0\twork, home, bad, japanese\n",
            "Topic #1\tyou, korea, friends, music\n",
            "Topic #2\t대화, 영화, 동네, 수다\n",
            "Topic #3\t사람, no, fwb, 만나다\n"
          ],
          "name": "stdout"
        }
      ]
    },
    {
      "cell_type": "code",
      "metadata": {
        "id": "h0n4HdC3MXSU",
        "colab": {
          "base_uri": "https://localhost:8080/",
          "height": 960
        },
        "outputId": "7cade923-3dfd-4c10-cfa6-fa731d7b8141"
      },
      "source": [
        "# extract candidates for auto topic labeling\n",
        "extractor = tp.label.PMIExtractor(min_cf=10, min_df=5, max_len=5, max_cand=10000)\n",
        "cands = extractor.extract(DMR_model)\n",
        "\n",
        "labeler = tp.label.FoRelevance(DMR_model, cands, min_df=5, smoothing=1e-2, mu=0.25)\n",
        "for k in range(DMR_model.k):\n",
        "    print(\"== Topic #{} ==\".format(k))\n",
        "    print(\"Labels:\", ', '.join(label for label, score in labeler.get_topic_labels(k, top_n=5)))\n",
        "    for word, prob in DMR_model.get_topic_words(k, top_n=10):\n",
        "        print(word, prob, sep='\\t')\n",
        "    print()"
      ],
      "execution_count": null,
      "outputs": [
        {
          "output_type": "stream",
          "text": [
            "== Topic #0 ==\n",
            "Labels: like, english, speak, i, 커피\n",
            "work\t0.16859464347362518\n",
            "home\t0.16859464347362518\n",
            "bad\t0.15611682832241058\n",
            "japanese\t0.15611682832241058\n",
            "english\t0.0934336706995964\n",
            "cm\t0.0782000795006752\n",
            "gym\t0.05894240364432335\n",
            "coffee\t0.05395126715302467\n",
            "korean\t0.05312420427799225\n",
            "you\t6.159216718515381e-05\n",
            "\n",
            "== Topic #1 ==\n",
            "Labels: with, not, i, want, friends\n",
            "you\t0.029013212770223618\n",
            "korea\t0.028555387631058693\n",
            "friends\t0.021854884922504425\n",
            "music\t0.021298661828041077\n",
            "korean\t0.020084107294678688\n",
            "not\t0.0197120513767004\n",
            "with\t0.017796240746974945\n",
            "like\t0.017531389370560646\n",
            "seoul\t0.016696684062480927\n",
            "love\t0.015536175109446049\n",
            "\n",
            "== Topic #2 ==\n",
            "Labels: 심심 수다, 심심, 수다, 대화, 솔직 대화\n",
            "대화\t0.03149975836277008\n",
            "영화\t0.031293950974941254\n",
            "동네\t0.03025231882929802\n",
            "수다\t0.030054664239287376\n",
            "카페\t0.029427697882056236\n",
            "솔직\t0.028820689767599106\n",
            "여행\t0.026158154010772705\n",
            "한강\t0.025468721985816956\n",
            "치맥\t0.024896664544939995\n",
            "스타\t0.02411044016480446\n",
            "\n",
            "== Topic #3 ==\n",
            "Labels: 보다, 사람, 만나다, 찾다, 살다\n",
            "사람\t0.06358479708433151\n",
            "no\t0.04635370150208473\n",
            "fwb\t0.044180337339639664\n",
            "만나다\t0.040489550679922104\n",
            "생각\t0.03555040434002876\n",
            "보다\t0.034623563289642334\n",
            "ons\t0.03426165506243706\n",
            "되다\t0.03139221668243408\n",
            "싫다\t0.03139221668243408\n",
            "찾다\t0.03085881844162941\n",
            "\n"
          ],
          "name": "stdout"
        }
      ]
    },
    {
      "cell_type": "code",
      "metadata": {
        "id": "-ovuJR96MXSY",
        "colab": {
          "base_uri": "https://localhost:8080/",
          "height": 35
        },
        "outputId": "69c18e03-bdfd-4d5d-ba85-256c60d0a129"
      },
      "source": [
        "DMR_model.metadata_dict"
      ],
      "execution_count": null,
      "outputs": [
        {
          "output_type": "execute_result",
          "data": {
            "text/plain": [
              "[' 20대 이하 남', '30대 이상 남', ' 20대 이하 여', '30대 이상 여']"
            ]
          },
          "metadata": {
            "tags": []
          },
          "execution_count": 3809
        }
      ]
    },
    {
      "cell_type": "code",
      "metadata": {
        "id": "zkP5QM5ZMXSb",
        "colab": {
          "base_uri": "https://localhost:8080/",
          "height": 89
        },
        "outputId": "fcb78296-b1a2-4ca7-f04e-46f974675b28"
      },
      "source": [
        "DMR_model.lambdas"
      ],
      "execution_count": null,
      "outputs": [
        {
          "output_type": "execute_result",
          "data": {
            "text/plain": [
              "array([[-5.814535 , -2.0476308, -1.2994583, -3.504329 ],\n",
              "       [-2.0476308, -1.2994583, -3.504329 , -4.3244   ],\n",
              "       [-1.2994583, -3.504329 , -4.3244   , -1.365977 ],\n",
              "       [-3.504329 , -4.3244   , -1.365977 , -2.1250248]], dtype=float32)"
            ]
          },
          "metadata": {
            "tags": []
          },
          "execution_count": 3810
        }
      ]
    },
    {
      "cell_type": "code",
      "metadata": {
        "id": "rzyLGhY4MXSf",
        "colab": {
          "base_uri": "https://localhost:8080/",
          "height": 89
        },
        "outputId": "1f5c9345-e99f-4022-a682-4bb572a8d1af"
      },
      "source": [
        "np.exp(DMR_model.lambdas)"
      ],
      "execution_count": null,
      "outputs": [
        {
          "output_type": "execute_result",
          "data": {
            "text/plain": [
              "array([[0.00298387, 0.12904027, 0.27267948, 0.03006694],\n",
              "       [0.12904027, 0.27267948, 0.03006694, 0.01324149],\n",
              "       [0.27267948, 0.03006694, 0.01324149, 0.25513127],\n",
              "       [0.03006694, 0.01324149, 0.25513127, 0.11943001]], dtype=float32)"
            ]
          },
          "metadata": {
            "tags": []
          },
          "execution_count": 3811
        }
      ]
    },
    {
      "cell_type": "code",
      "metadata": {
        "id": "BM4rO2wGMXSj",
        "colab": {
          "base_uri": "https://localhost:8080/",
          "height": 35
        },
        "outputId": "5140d518-36bd-43ab-fbea-daab792dc697"
      },
      "source": [
        "np.exp(DMR_model.lambdas)[:,0] / np.exp(DMR_model.lambdas)[:,0].sum() # 20대 이하 남"
      ],
      "execution_count": null,
      "outputs": [
        {
          "output_type": "execute_result",
          "data": {
            "text/plain": [
              "array([0.00686308, 0.29680085, 0.62718016, 0.06915589], dtype=float32)"
            ]
          },
          "metadata": {
            "tags": []
          },
          "execution_count": 3812
        }
      ]
    },
    {
      "cell_type": "code",
      "metadata": {
        "id": "B0jwaHQIMXSo",
        "colab": {
          "base_uri": "https://localhost:8080/",
          "height": 35
        },
        "outputId": "4fcc9618-a632-4eff-b373-501550d0843d"
      },
      "source": [
        "np.exp(DMR_model.lambdas)[:,1] / np.exp(DMR_model.lambdas)[:,1].sum() # 30대 이상 남"
      ],
      "execution_count": null,
      "outputs": [
        {
          "output_type": "execute_result",
          "data": {
            "text/plain": [
              "array([0.28995976, 0.61272407, 0.06756189, 0.02975428], dtype=float32)"
            ]
          },
          "metadata": {
            "tags": []
          },
          "execution_count": 3813
        }
      ]
    },
    {
      "cell_type": "code",
      "metadata": {
        "id": "0YhvEWLAMuFU",
        "colab": {
          "base_uri": "https://localhost:8080/",
          "height": 35
        },
        "outputId": "b607626c-ef25-4371-da29-1f7c00f1c0bc"
      },
      "source": [
        "np.exp(DMR_model.lambdas)[:,2] / np.exp(DMR_model.lambdas)[:,2].sum() # 20대 이하 여"
      ],
      "execution_count": null,
      "outputs": [
        {
          "output_type": "execute_result",
          "data": {
            "text/plain": [
              "array([0.4774476 , 0.05264565, 0.02318517, 0.44672158], dtype=float32)"
            ]
          },
          "metadata": {
            "tags": []
          },
          "execution_count": 3814
        }
      ]
    },
    {
      "cell_type": "code",
      "metadata": {
        "id": "92OALInkMt77",
        "colab": {
          "base_uri": "https://localhost:8080/",
          "height": 35
        },
        "outputId": "c569519a-e0e6-410e-8508-928f94f0e1da"
      },
      "source": [
        "np.exp(DMR_model.lambdas)[:,3] / np.exp(DMR_model.lambdas)[:,3].sum() # 30대 이상 여"
      ],
      "execution_count": null,
      "outputs": [
        {
          "output_type": "execute_result",
          "data": {
            "text/plain": [
              "array([0.07195291, 0.03168809, 0.6105522 , 0.2858068 ], dtype=float32)"
            ]
          },
          "metadata": {
            "tags": []
          },
          "execution_count": 3815
        }
      ]
    },
    {
      "cell_type": "markdown",
      "metadata": {
        "id": "FKyrs0iyXGy3"
      },
      "source": [
        "## 기타 골칫거리들"
      ]
    },
    {
      "cell_type": "code",
      "metadata": {
        "id": "dgvxG8KWOk3I"
      },
      "source": [
        "# fwb 포함한 행 찾기\n",
        "# df[df['text'].str.contains(\"fwb\", na=False)]"
      ],
      "execution_count": null,
      "outputs": []
    },
    {
      "cell_type": "markdown",
      "metadata": {
        "id": "T64Za4DeWn4V"
      },
      "source": [
        "profile_alphabet 처리"
      ]
    },
    {
      "cell_type": "code",
      "metadata": {
        "id": "0VZWQYlnWmd5"
      },
      "source": [
        "# df['profile_alphabet']"
      ],
      "execution_count": null,
      "outputs": []
    },
    {
      "cell_type": "code",
      "metadata": {
        "id": "UM5o0s5fWt-R",
        "colab": {
          "base_uri": "https://localhost:8080/",
          "height": 71
        },
        "outputId": "fddf0ab1-c341-4de0-db6c-ec944f544b2d"
      },
      "source": [
        "import nltk\n",
        "nltk.download('punkt')"
      ],
      "execution_count": null,
      "outputs": [
        {
          "output_type": "stream",
          "text": [
            "[nltk_data] Downloading package punkt to /root/nltk_data...\n",
            "[nltk_data]   Package punkt is already up-to-date!\n"
          ],
          "name": "stdout"
        },
        {
          "output_type": "execute_result",
          "data": {
            "text/plain": [
              "True"
            ]
          },
          "metadata": {
            "tags": []
          },
          "execution_count": 3818
        }
      ]
    },
    {
      "cell_type": "code",
      "metadata": {
        "id": "nXTMHQPMXlSk"
      },
      "source": [
        "from nltk.tokenize import word_tokenize\n",
        "# df['token_abc'] = df['profile_alphabet'].map(lambda x:word_tokenize(x))\n",
        "# df['token_abc']"
      ],
      "execution_count": null,
      "outputs": []
    },
    {
      "cell_type": "markdown",
      "metadata": {
        "id": "7AElGte5-zMr"
      },
      "source": [
        "# 2. 직업 및 학교란 (안 하고 문구만 다루려고 합니다!)"
      ]
    },
    {
      "cell_type": "markdown",
      "metadata": {
        "id": "moNrsZrd_i1v"
      },
      "source": [
        "## 기입 여부\n",
        "\n",
        "- 기입 내용은 직접 확인"
      ]
    },
    {
      "cell_type": "code",
      "metadata": {
        "id": "BoNSSHukzMjR",
        "colab": {
          "base_uri": "https://localhost:8080/",
          "height": 234
        },
        "outputId": "08a0ba19-2ef2-4363-87e9-3298a71900da"
      },
      "source": [
        "# 해당 값이 결측치인지 아닌지의 여부를 알고싶다면 isna() 메소드를 이용하면 됩니다. 결측치이면 True, 값이 있다면 False 로 나타납니다.\n",
        "pd.isna(df['job'])\n",
        "\n",
        "# False의 개수, True의 개수"
      ],
      "execution_count": null,
      "outputs": [
        {
          "output_type": "execute_result",
          "data": {
            "text/plain": [
              "0       True\n",
              "1       True\n",
              "2      False\n",
              "3       True\n",
              "4       True\n",
              "       ...  \n",
              "494    False\n",
              "495    False\n",
              "496    False\n",
              "497     True\n",
              "498     True\n",
              "Name: job, Length: 479, dtype: bool"
            ]
          },
          "metadata": {
            "tags": []
          },
          "execution_count": 3820
        }
      ]
    },
    {
      "cell_type": "markdown",
      "metadata": {
        "id": "vgMKTVllsZ05"
      },
      "source": [
        "## Word2vec"
      ]
    },
    {
      "cell_type": "code",
      "metadata": {
        "id": "A5_BMmMPscMu"
      },
      "source": [
        "num_features = 200 # 문자 벡터 차원 수\n",
        "min_word_count = 2 # 최소 문자 수\n",
        "context = 10 # 문자열 창 크기\n",
        "downsampling = 1e-3 # 문자 빈도수 Downsample"
      ],
      "execution_count": null,
      "outputs": []
    },
    {
      "cell_type": "code",
      "metadata": {
        "id": "qK1WGV6qs7V7"
      },
      "source": [
        "model = word2vec.Word2Vec(df['token'].tolist(),\n",
        "                          size=num_features, \n",
        "                          min_count=min_word_count,\n",
        "                          window=context,\n",
        "                          sample=downsampling)"
      ],
      "execution_count": null,
      "outputs": []
    },
    {
      "cell_type": "code",
      "metadata": {
        "id": "DFKbA5Z4tBNL",
        "colab": {
          "base_uri": "https://localhost:8080/",
          "height": 254
        },
        "outputId": "78b8781a-92ee-46cf-8182-f5f04f402a9a"
      },
      "source": [
        "model.wv.most_similar('친구')"
      ],
      "execution_count": null,
      "outputs": [
        {
          "output_type": "stream",
          "text": [
            "/usr/local/lib/python3.6/dist-packages/gensim/matutils.py:737: FutureWarning: Conversion of the second argument of issubdtype from `int` to `np.signedinteger` is deprecated. In future, it will be treated as `np.int64 == np.dtype(int).type`.\n",
            "  if np.issubdtype(vec.dtype, np.int):\n"
          ],
          "name": "stderr"
        },
        {
          "output_type": "execute_result",
          "data": {
            "text/plain": [
              "[('i', 0.9802182912826538),\n",
              " ('사람', 0.9749902486801147),\n",
              " ('you', 0.9747065901756287),\n",
              " ('술', 0.9733530879020691),\n",
              " ('want', 0.9730602502822876),\n",
              " ('korean', 0.9729142189025879),\n",
              " ('좋아하다', 0.9729009866714478),\n",
              " ('with', 0.9702037572860718),\n",
              " ('friends', 0.9696072340011597),\n",
              " ('music', 0.9695073366165161)]"
            ]
          },
          "metadata": {
            "tags": []
          },
          "execution_count": 3835
        }
      ]
    },
    {
      "cell_type": "code",
      "metadata": {
        "id": "q5GF09GmhBtg"
      },
      "source": [
        ""
      ],
      "execution_count": null,
      "outputs": []
    },
    {
      "cell_type": "code",
      "metadata": {
        "id": "ARGkjaRyhbUt"
      },
      "source": [
        ""
      ],
      "execution_count": null,
      "outputs": []
    },
    {
      "cell_type": "code",
      "metadata": {
        "id": "r2XtkIg9tIAt",
        "colab": {
          "base_uri": "https://localhost:8080/",
          "height": 127
        },
        "outputId": "d8edbe16-8ffc-4aba-9026-9bfec0aef7d3"
      },
      "source": [
        "model.wv.doesnt_match('친구 fwb 술'.split())"
      ],
      "execution_count": null,
      "outputs": [
        {
          "output_type": "stream",
          "text": [
            "/usr/local/lib/python3.6/dist-packages/gensim/models/keyedvectors.py:895: FutureWarning: arrays to stack must be passed as a \"sequence\" type such as list or tuple. Support for non-sequence iterables such as generators is deprecated as of NumPy 1.16 and will raise an error in the future.\n",
            "  vectors = vstack(self.word_vec(word, use_norm=True) for word in used_words).astype(REAL)\n",
            "/usr/local/lib/python3.6/dist-packages/gensim/matutils.py:737: FutureWarning: Conversion of the second argument of issubdtype from `int` to `np.signedinteger` is deprecated. In future, it will be treated as `np.int64 == np.dtype(int).type`.\n",
            "  if np.issubdtype(vec.dtype, np.int):\n"
          ],
          "name": "stderr"
        },
        {
          "output_type": "execute_result",
          "data": {
            "text/plain": [
              "'fwb'"
            ]
          },
          "metadata": {
            "tags": []
          },
          "execution_count": 3824
        }
      ]
    },
    {
      "cell_type": "markdown",
      "metadata": {
        "id": "ekFI_wjVthEw"
      },
      "source": [
        "#### word2vec 시각화\n"
      ]
    },
    {
      "cell_type": "code",
      "metadata": {
        "id": "XAQMRmsPuzWv",
        "colab": {
          "base_uri": "https://localhost:8080/",
          "height": 35
        },
        "outputId": "73935034-f812-4c7a-b8c2-3e93ece085c7"
      },
      "source": [
        "font_path  # 설치된 나눔글꼴중 원하는 녀석의 전체 경로를 가져오자\n",
        "font_name = fm.FontProperties(fname=font_path, size=10).get_name()\n",
        "print(font_name)\n",
        "plt.rc('font', family=font_name)\n",
        "# 우선 fm._rebuild() 를 해주고\n",
        "fm._rebuild()"
      ],
      "execution_count": null,
      "outputs": [
        {
          "output_type": "stream",
          "text": [
            "NanumBarunGothic\n"
          ],
          "name": "stdout"
        }
      ]
    },
    {
      "cell_type": "code",
      "metadata": {
        "id": "RpryZLUTtjD0",
        "colab": {
          "base_uri": "https://localhost:8080/",
          "height": 125
        },
        "outputId": "6382a00e-7c0b-4660-be7f-2c10053c532b"
      },
      "source": [
        "mpl.rcParams['axes.unicode_minus'] = False\n",
        "vocab = list(model.wv.vocab)\n",
        "X = model[vocab]\n",
        "print(len(X))\n",
        "print(X[0][:10])"
      ],
      "execution_count": null,
      "outputs": [
        {
          "output_type": "stream",
          "text": [
            "642\n",
            "[-1.7766800e-03  1.6771602e-03 -1.3814797e-03  4.4699398e-05\n",
            "  1.8532359e-03 -1.5445787e-03 -2.1040549e-03 -1.1384164e-03\n",
            "  1.5981952e-04 -2.7572035e-03]\n"
          ],
          "name": "stdout"
        },
        {
          "output_type": "stream",
          "text": [
            "/usr/local/lib/python3.6/dist-packages/ipykernel_launcher.py:3: DeprecationWarning: Call to deprecated `__getitem__` (Method will be removed in 4.0.0, use self.wv.__getitem__() instead).\n",
            "  This is separate from the ipykernel package so we can avoid doing imports until\n"
          ],
          "name": "stderr"
        }
      ]
    },
    {
      "cell_type": "code",
      "metadata": {
        "id": "QY7XRfRYttVe"
      },
      "source": [
        "tsne = TSNE(n_components=2) # 2개의 차원"
      ],
      "execution_count": null,
      "outputs": []
    },
    {
      "cell_type": "code",
      "metadata": {
        "id": "F9mas1ijtwcP"
      },
      "source": [
        "# 100개의 단어에 대해서만 시각화\n",
        "X_tsne = tsne.fit_transform(X[:100,:])"
      ],
      "execution_count": null,
      "outputs": []
    },
    {
      "cell_type": "code",
      "metadata": {
        "id": "HmIfd_7ptze9",
        "colab": {
          "base_uri": "https://localhost:8080/",
          "height": 856
        },
        "outputId": "46d71dac-d66f-4e93-c4ff-46c28890782a"
      },
      "source": [
        "w2v_df = pd.DataFrame(X_tsne, index=vocab[:100], columns=['x', 'y'])\n",
        "w2v_df.shape\n",
        "w2v_df.head(10)\n",
        "\n",
        "fig = plt.figure()\n",
        "fig.set_size_inches(40, 20)\n",
        "ax = fig.add_subplot(1, 1, 1)\n",
        "\n",
        "ax.scatter(w2v_df['x'], w2v_df['y'])\n",
        "\n",
        "for word, pos in w2v_df.iterrows():\n",
        "    ax.annotate(word, pos, fontsize=20)\n",
        "plt.show()"
      ],
      "execution_count": null,
      "outputs": [
        {
          "output_type": "display_data",
          "data": {
            "image/png": "[encoded data removed]",
            "text/plain": [
              "<Figure size 2880x1440 with 1 Axes>"
            ]
          },
          "metadata": {
            "tags": [],
            "needs_background": "light"
          }
        }
      ]
    }
  ]
}